{
 "cells": [
  {
   "cell_type": "code",
   "execution_count": 1,
   "metadata": {},
   "outputs": [],
   "source": [
    "import pandas as pd\n",
    "import numpy as np\n",
    "%matplotlib inline\n",
    "from keras.models import Sequential\n",
    "from keras.layers import Dense, LSTM, Dropout, GRU\n",
    "from sklearn.preprocessing import MinMaxScaler\n",
    "from sklearn.metrics import mean_squared_error, r2_score\n",
    "import math\n",
    "import matplotlib.pyplot as plt"
   ]
  },
  {
   "cell_type": "code",
   "execution_count": 2,
   "metadata": {},
   "outputs": [],
   "source": [
    "#!pip install keras\n",
    "#!pip install tensorflow"
   ]
  },
  {
   "cell_type": "code",
   "execution_count": 3,
   "metadata": {},
   "outputs": [
    {
     "data": {
      "text/html": [
       "<div>\n",
       "<style scoped>\n",
       "    .dataframe tbody tr th:only-of-type {\n",
       "        vertical-align: middle;\n",
       "    }\n",
       "\n",
       "    .dataframe tbody tr th {\n",
       "        vertical-align: top;\n",
       "    }\n",
       "\n",
       "    .dataframe thead th {\n",
       "        text-align: right;\n",
       "    }\n",
       "</style>\n",
       "<table border=\"1\" class=\"dataframe\">\n",
       "  <thead>\n",
       "    <tr style=\"text-align: right;\">\n",
       "      <th></th>\n",
       "      <th>date</th>\n",
       "      <th>close</th>\n",
       "      <th>high</th>\n",
       "      <th>low</th>\n",
       "      <th>open</th>\n",
       "      <th>volume</th>\n",
       "      <th>sma5</th>\n",
       "      <th>sma10</th>\n",
       "      <th>sma15</th>\n",
       "      <th>sma20</th>\n",
       "      <th>...</th>\n",
       "      <th>fastd</th>\n",
       "      <th>fastksr</th>\n",
       "      <th>fastdsr</th>\n",
       "      <th>ULTOSC</th>\n",
       "      <th>WILLR</th>\n",
       "      <th>ATR</th>\n",
       "      <th>Trange</th>\n",
       "      <th>TYPPRICE</th>\n",
       "      <th>HT_DCPERIOD</th>\n",
       "      <th>BETA</th>\n",
       "    </tr>\n",
       "  </thead>\n",
       "  <tbody>\n",
       "    <tr>\n",
       "      <th>0</th>\n",
       "      <td>2015-02-02 10:18:00+05:30</td>\n",
       "      <td>1544.00</td>\n",
       "      <td>1545.00</td>\n",
       "      <td>1543.10</td>\n",
       "      <td>1545.00</td>\n",
       "      <td>220</td>\n",
       "      <td>1544.94</td>\n",
       "      <td>1545.890</td>\n",
       "      <td>1546.756667</td>\n",
       "      <td>1546.9950</td>\n",
       "      <td>...</td>\n",
       "      <td>31.307634</td>\n",
       "      <td>0.000000</td>\n",
       "      <td>8.760123e+00</td>\n",
       "      <td>43.728004</td>\n",
       "      <td>-86.466165</td>\n",
       "      <td>2.056306</td>\n",
       "      <td>2.10</td>\n",
       "      <td>1544.033333</td>\n",
       "      <td>27.840336</td>\n",
       "      <td>0.138547</td>\n",
       "    </tr>\n",
       "    <tr>\n",
       "      <th>1</th>\n",
       "      <td>2015-02-02 10:19:00+05:30</td>\n",
       "      <td>1543.70</td>\n",
       "      <td>1544.00</td>\n",
       "      <td>1543.00</td>\n",
       "      <td>1544.00</td>\n",
       "      <td>29</td>\n",
       "      <td>1544.63</td>\n",
       "      <td>1545.545</td>\n",
       "      <td>1546.446667</td>\n",
       "      <td>1546.8650</td>\n",
       "      <td>...</td>\n",
       "      <td>23.381708</td>\n",
       "      <td>0.000000</td>\n",
       "      <td>4.380062e+00</td>\n",
       "      <td>47.390635</td>\n",
       "      <td>-89.629630</td>\n",
       "      <td>1.980855</td>\n",
       "      <td>1.00</td>\n",
       "      <td>1543.566667</td>\n",
       "      <td>27.115144</td>\n",
       "      <td>0.094738</td>\n",
       "    </tr>\n",
       "    <tr>\n",
       "      <th>2</th>\n",
       "      <td>2015-02-02 10:20:00+05:30</td>\n",
       "      <td>1543.00</td>\n",
       "      <td>1543.70</td>\n",
       "      <td>1542.50</td>\n",
       "      <td>1543.70</td>\n",
       "      <td>28</td>\n",
       "      <td>1544.22</td>\n",
       "      <td>1545.205</td>\n",
       "      <td>1546.013333</td>\n",
       "      <td>1546.5800</td>\n",
       "      <td>...</td>\n",
       "      <td>15.620034</td>\n",
       "      <td>0.000000</td>\n",
       "      <td>1.184238e-15</td>\n",
       "      <td>43.139523</td>\n",
       "      <td>-92.857143</td>\n",
       "      <td>1.925080</td>\n",
       "      <td>1.20</td>\n",
       "      <td>1543.066667</td>\n",
       "      <td>26.735549</td>\n",
       "      <td>0.336124</td>\n",
       "    </tr>\n",
       "    <tr>\n",
       "      <th>3</th>\n",
       "      <td>2015-02-02 10:21:00+05:30</td>\n",
       "      <td>1542.30</td>\n",
       "      <td>1543.00</td>\n",
       "      <td>1542.30</td>\n",
       "      <td>1543.00</td>\n",
       "      <td>125</td>\n",
       "      <td>1543.64</td>\n",
       "      <td>1544.635</td>\n",
       "      <td>1545.533333</td>\n",
       "      <td>1546.3950</td>\n",
       "      <td>...</td>\n",
       "      <td>9.497585</td>\n",
       "      <td>0.000000</td>\n",
       "      <td>1.184238e-15</td>\n",
       "      <td>44.657886</td>\n",
       "      <td>-100.000000</td>\n",
       "      <td>1.837574</td>\n",
       "      <td>0.70</td>\n",
       "      <td>1542.533333</td>\n",
       "      <td>26.601907</td>\n",
       "      <td>0.608042</td>\n",
       "    </tr>\n",
       "    <tr>\n",
       "      <th>4</th>\n",
       "      <td>2015-02-02 10:22:00+05:30</td>\n",
       "      <td>1542.10</td>\n",
       "      <td>1542.15</td>\n",
       "      <td>1541.10</td>\n",
       "      <td>1541.10</td>\n",
       "      <td>113</td>\n",
       "      <td>1543.02</td>\n",
       "      <td>1544.235</td>\n",
       "      <td>1545.143333</td>\n",
       "      <td>1546.0725</td>\n",
       "      <td>...</td>\n",
       "      <td>13.377926</td>\n",
       "      <td>0.000000</td>\n",
       "      <td>1.184238e-15</td>\n",
       "      <td>54.066603</td>\n",
       "      <td>-86.111111</td>\n",
       "      <td>1.792033</td>\n",
       "      <td>1.20</td>\n",
       "      <td>1541.783333</td>\n",
       "      <td>26.691996</td>\n",
       "      <td>0.253168</td>\n",
       "    </tr>\n",
       "    <tr>\n",
       "      <th>...</th>\n",
       "      <td>...</td>\n",
       "      <td>...</td>\n",
       "      <td>...</td>\n",
       "      <td>...</td>\n",
       "      <td>...</td>\n",
       "      <td>...</td>\n",
       "      <td>...</td>\n",
       "      <td>...</td>\n",
       "      <td>...</td>\n",
       "      <td>...</td>\n",
       "      <td>...</td>\n",
       "      <td>...</td>\n",
       "      <td>...</td>\n",
       "      <td>...</td>\n",
       "      <td>...</td>\n",
       "      <td>...</td>\n",
       "      <td>...</td>\n",
       "      <td>...</td>\n",
       "      <td>...</td>\n",
       "      <td>...</td>\n",
       "      <td>...</td>\n",
       "    </tr>\n",
       "    <tr>\n",
       "      <th>660528</th>\n",
       "      <td>2022-10-24 19:10:00+05:30</td>\n",
       "      <td>2255.00</td>\n",
       "      <td>2255.90</td>\n",
       "      <td>2254.55</td>\n",
       "      <td>2255.80</td>\n",
       "      <td>199</td>\n",
       "      <td>2254.57</td>\n",
       "      <td>2255.310</td>\n",
       "      <td>2256.563333</td>\n",
       "      <td>2257.6950</td>\n",
       "      <td>...</td>\n",
       "      <td>49.178125</td>\n",
       "      <td>81.874937</td>\n",
       "      <td>7.598390e+01</td>\n",
       "      <td>45.272781</td>\n",
       "      <td>-70.652174</td>\n",
       "      <td>2.447174</td>\n",
       "      <td>1.35</td>\n",
       "      <td>2255.150000</td>\n",
       "      <td>21.097032</td>\n",
       "      <td>0.264783</td>\n",
       "    </tr>\n",
       "    <tr>\n",
       "      <th>660529</th>\n",
       "      <td>2022-10-24 19:11:00+05:30</td>\n",
       "      <td>2255.95</td>\n",
       "      <td>2255.95</td>\n",
       "      <td>2254.55</td>\n",
       "      <td>2255.75</td>\n",
       "      <td>227</td>\n",
       "      <td>2255.01</td>\n",
       "      <td>2255.170</td>\n",
       "      <td>2256.296667</td>\n",
       "      <td>2257.5225</td>\n",
       "      <td>...</td>\n",
       "      <td>77.569938</td>\n",
       "      <td>100.000000</td>\n",
       "      <td>9.395831e+01</td>\n",
       "      <td>50.828265</td>\n",
       "      <td>-60.326087</td>\n",
       "      <td>2.372376</td>\n",
       "      <td>1.40</td>\n",
       "      <td>2255.483333</td>\n",
       "      <td>21.480192</td>\n",
       "      <td>-0.180632</td>\n",
       "    </tr>\n",
       "    <tr>\n",
       "      <th>660530</th>\n",
       "      <td>2022-10-24 19:12:00+05:30</td>\n",
       "      <td>2256.25</td>\n",
       "      <td>2256.25</td>\n",
       "      <td>2255.35</td>\n",
       "      <td>2256.00</td>\n",
       "      <td>594</td>\n",
       "      <td>2255.21</td>\n",
       "      <td>2255.025</td>\n",
       "      <td>2256.046667</td>\n",
       "      <td>2257.2600</td>\n",
       "      <td>...</td>\n",
       "      <td>90.435435</td>\n",
       "      <td>100.000000</td>\n",
       "      <td>9.395831e+01</td>\n",
       "      <td>63.508973</td>\n",
       "      <td>-52.976190</td>\n",
       "      <td>2.267206</td>\n",
       "      <td>0.90</td>\n",
       "      <td>2255.950000</td>\n",
       "      <td>21.961213</td>\n",
       "      <td>-0.825419</td>\n",
       "    </tr>\n",
       "    <tr>\n",
       "      <th>660531</th>\n",
       "      <td>2022-10-24 19:13:00+05:30</td>\n",
       "      <td>2255.00</td>\n",
       "      <td>2255.95</td>\n",
       "      <td>2254.55</td>\n",
       "      <td>2255.50</td>\n",
       "      <td>267</td>\n",
       "      <td>2255.60</td>\n",
       "      <td>2254.820</td>\n",
       "      <td>2255.656667</td>\n",
       "      <td>2256.9350</td>\n",
       "      <td>...</td>\n",
       "      <td>86.623932</td>\n",
       "      <td>14.162538</td>\n",
       "      <td>7.138751e+01</td>\n",
       "      <td>60.803143</td>\n",
       "      <td>-53.043478</td>\n",
       "      <td>2.226691</td>\n",
       "      <td>1.70</td>\n",
       "      <td>2255.166667</td>\n",
       "      <td>22.556313</td>\n",
       "      <td>0.117191</td>\n",
       "    </tr>\n",
       "    <tr>\n",
       "      <th>660532</th>\n",
       "      <td>2022-10-24 19:14:00+05:30</td>\n",
       "      <td>2256.00</td>\n",
       "      <td>2259.00</td>\n",
       "      <td>2254.00</td>\n",
       "      <td>2255.00</td>\n",
       "      <td>365</td>\n",
       "      <td>2255.64</td>\n",
       "      <td>2254.910</td>\n",
       "      <td>2255.556667</td>\n",
       "      <td>2256.6450</td>\n",
       "      <td>...</td>\n",
       "      <td>67.179487</td>\n",
       "      <td>97.987590</td>\n",
       "      <td>7.071671e+01</td>\n",
       "      <td>52.011335</td>\n",
       "      <td>-44.776119</td>\n",
       "      <td>2.424785</td>\n",
       "      <td>5.00</td>\n",
       "      <td>2256.333333</td>\n",
       "      <td>23.018880</td>\n",
       "      <td>-0.254031</td>\n",
       "    </tr>\n",
       "  </tbody>\n",
       "</table>\n",
       "<p>660533 rows × 60 columns</p>\n",
       "</div>"
      ],
      "text/plain": [
       "                             date    close     high      low     open  volume  \\\n",
       "0       2015-02-02 10:18:00+05:30  1544.00  1545.00  1543.10  1545.00     220   \n",
       "1       2015-02-02 10:19:00+05:30  1543.70  1544.00  1543.00  1544.00      29   \n",
       "2       2015-02-02 10:20:00+05:30  1543.00  1543.70  1542.50  1543.70      28   \n",
       "3       2015-02-02 10:21:00+05:30  1542.30  1543.00  1542.30  1543.00     125   \n",
       "4       2015-02-02 10:22:00+05:30  1542.10  1542.15  1541.10  1541.10     113   \n",
       "...                           ...      ...      ...      ...      ...     ...   \n",
       "660528  2022-10-24 19:10:00+05:30  2255.00  2255.90  2254.55  2255.80     199   \n",
       "660529  2022-10-24 19:11:00+05:30  2255.95  2255.95  2254.55  2255.75     227   \n",
       "660530  2022-10-24 19:12:00+05:30  2256.25  2256.25  2255.35  2256.00     594   \n",
       "660531  2022-10-24 19:13:00+05:30  2255.00  2255.95  2254.55  2255.50     267   \n",
       "660532  2022-10-24 19:14:00+05:30  2256.00  2259.00  2254.00  2255.00     365   \n",
       "\n",
       "           sma5     sma10        sma15      sma20  ...      fastd     fastksr  \\\n",
       "0       1544.94  1545.890  1546.756667  1546.9950  ...  31.307634    0.000000   \n",
       "1       1544.63  1545.545  1546.446667  1546.8650  ...  23.381708    0.000000   \n",
       "2       1544.22  1545.205  1546.013333  1546.5800  ...  15.620034    0.000000   \n",
       "3       1543.64  1544.635  1545.533333  1546.3950  ...   9.497585    0.000000   \n",
       "4       1543.02  1544.235  1545.143333  1546.0725  ...  13.377926    0.000000   \n",
       "...         ...       ...          ...        ...  ...        ...         ...   \n",
       "660528  2254.57  2255.310  2256.563333  2257.6950  ...  49.178125   81.874937   \n",
       "660529  2255.01  2255.170  2256.296667  2257.5225  ...  77.569938  100.000000   \n",
       "660530  2255.21  2255.025  2256.046667  2257.2600  ...  90.435435  100.000000   \n",
       "660531  2255.60  2254.820  2255.656667  2256.9350  ...  86.623932   14.162538   \n",
       "660532  2255.64  2254.910  2255.556667  2256.6450  ...  67.179487   97.987590   \n",
       "\n",
       "             fastdsr     ULTOSC       WILLR       ATR  Trange     TYPPRICE  \\\n",
       "0       8.760123e+00  43.728004  -86.466165  2.056306    2.10  1544.033333   \n",
       "1       4.380062e+00  47.390635  -89.629630  1.980855    1.00  1543.566667   \n",
       "2       1.184238e-15  43.139523  -92.857143  1.925080    1.20  1543.066667   \n",
       "3       1.184238e-15  44.657886 -100.000000  1.837574    0.70  1542.533333   \n",
       "4       1.184238e-15  54.066603  -86.111111  1.792033    1.20  1541.783333   \n",
       "...              ...        ...         ...       ...     ...          ...   \n",
       "660528  7.598390e+01  45.272781  -70.652174  2.447174    1.35  2255.150000   \n",
       "660529  9.395831e+01  50.828265  -60.326087  2.372376    1.40  2255.483333   \n",
       "660530  9.395831e+01  63.508973  -52.976190  2.267206    0.90  2255.950000   \n",
       "660531  7.138751e+01  60.803143  -53.043478  2.226691    1.70  2255.166667   \n",
       "660532  7.071671e+01  52.011335  -44.776119  2.424785    5.00  2256.333333   \n",
       "\n",
       "        HT_DCPERIOD      BETA  \n",
       "0         27.840336  0.138547  \n",
       "1         27.115144  0.094738  \n",
       "2         26.735549  0.336124  \n",
       "3         26.601907  0.608042  \n",
       "4         26.691996  0.253168  \n",
       "...             ...       ...  \n",
       "660528    21.097032  0.264783  \n",
       "660529    21.480192 -0.180632  \n",
       "660530    21.961213 -0.825419  \n",
       "660531    22.556313  0.117191  \n",
       "660532    23.018880 -0.254031  \n",
       "\n",
       "[660533 rows x 60 columns]"
      ]
     },
     "execution_count": 3,
     "metadata": {},
     "output_type": "execute_result"
    }
   ],
   "source": [
    "df = pd.read_csv('stock-market-data-nifty-50-stocks-1-min-data/ACC_minute_data_with_indicators.csv')\n",
    "df"
   ]
  },
  {
   "cell_type": "code",
   "execution_count": 4,
   "metadata": {},
   "outputs": [],
   "source": [
    "#df['date'] = pd.to_datetime(df['date']).dt.date\n",
    "#df"
   ]
  },
  {
   "cell_type": "code",
   "execution_count": 5,
   "metadata": {},
   "outputs": [
    {
     "data": {
      "text/plain": [
       "0         1543.10\n",
       "1         1543.00\n",
       "2         1542.50\n",
       "3         1542.30\n",
       "4         1541.10\n",
       "           ...   \n",
       "660528    2254.55\n",
       "660529    2254.55\n",
       "660530    2255.35\n",
       "660531    2254.55\n",
       "660532    2254.00\n",
       "Name: low, Length: 660533, dtype: float64"
      ]
     },
     "execution_count": 5,
     "metadata": {},
     "output_type": "execute_result"
    }
   ],
   "source": [
    "df1 = df.reset_index()['low']\n",
    "df1"
   ]
  },
  {
   "cell_type": "code",
   "execution_count": 6,
   "metadata": {},
   "outputs": [
    {
     "data": {
      "text/plain": [
       "[<matplotlib.lines.Line2D at 0x7f62c1f377c0>]"
      ]
     },
     "execution_count": 6,
     "metadata": {},
     "output_type": "execute_result"
    },
    {
     "data": {
      "image/png": "[encoded data removed]",
      "text/plain": [
       "<Figure size 1440x576 with 1 Axes>"
      ]
     },
     "metadata": {
      "needs_background": "light"
     },
     "output_type": "display_data"
    }
   ],
   "source": [
    "plt.figure(figsize=(20,8))\n",
    "plt.plot(df1)"
   ]
  },
  {
   "cell_type": "code",
   "execution_count": 7,
   "metadata": {},
   "outputs": [],
   "source": [
    "scaler = MinMaxScaler(feature_range = (0,1))\n",
    "df1 = scaler.fit_transform(np.array(df1).reshape(-1,1))"
   ]
  },
  {
   "cell_type": "code",
   "execution_count": 8,
   "metadata": {},
   "outputs": [],
   "source": [
    "training_size=int(len(df1)*0.8)\n",
    "test_size = len(df1) - training_size\n",
    "train_data, test_data = df1[0:training_size,:], df1[training_size:len(df1),:1]"
   ]
  },
  {
   "cell_type": "code",
   "execution_count": 9,
   "metadata": {},
   "outputs": [],
   "source": [
    "def create_dataset(dataset, time_step=1):\n",
    "    dataX, dataY = [], []\n",
    "    for i in range(len(dataset)-time_step-1):\n",
    "        a = dataset[i:(i+time_step), 0]\n",
    "        dataX.append(a)\n",
    "        dataY.append(dataset[i+time_step, 0])\n",
    "    return np.array(dataX), np.array(dataY)"
   ]
  },
  {
   "cell_type": "code",
   "execution_count": 10,
   "metadata": {},
   "outputs": [],
   "source": [
    "time_step=100\n",
    "X_train, y_train = create_dataset(train_data, time_step)\n",
    "X_test, y_test = create_dataset(test_data, time_step)"
   ]
  },
  {
   "cell_type": "code",
   "execution_count": 11,
   "metadata": {},
   "outputs": [],
   "source": [
    "X_train=X_train.reshape(X_train.shape[0], X_train.shape[1],1)\n",
    "X_test=X_test.reshape(X_test.shape[0], X_test.shape[1],1)"
   ]
  },
  {
   "cell_type": "code",
   "execution_count": 12,
   "metadata": {},
   "outputs": [
    {
     "data": {
      "text/plain": [
       "100"
      ]
     },
     "execution_count": 12,
     "metadata": {},
     "output_type": "execute_result"
    }
   ],
   "source": [
    "X_train.shape[1]"
   ]
  },
  {
   "cell_type": "code",
   "execution_count": 13,
   "metadata": {},
   "outputs": [],
   "source": [
    "# create and fit the LSTM network\n",
    "model = Sequential()\n",
    "model.add(LSTM(50, activation = 'relu', return_sequences = True,  input_shape=(X_train.shape[1], 1)))\n",
    "model.add(Dropout(0.2))\n",
    "model.add(LSTM(50, return_sequences = True))\n",
    "model.add(Dropout(0.2))\n",
    "model.add(LSTM(50))\n",
    "model.add(Dense(1))\n",
    "model.compile(loss='mean_squared_error', optimizer='adam')"
   ]
  },
  {
   "cell_type": "code",
   "execution_count": 14,
   "metadata": {},
   "outputs": [
    {
     "name": "stdout",
     "output_type": "stream",
     "text": [
      "Model: \"sequential\"\n",
      "_________________________________________________________________\n",
      " Layer (type)                Output Shape              Param #   \n",
      "=================================================================\n",
      " lstm (LSTM)                 (None, 100, 50)           10400     \n",
      "                                                                 \n",
      " dropout (Dropout)           (None, 100, 50)           0         \n",
      "                                                                 \n",
      " lstm_1 (LSTM)               (None, 100, 50)           20200     \n",
      "                                                                 \n",
      " dropout_1 (Dropout)         (None, 100, 50)           0         \n",
      "                                                                 \n",
      " lstm_2 (LSTM)               (None, 50)                20200     \n",
      "                                                                 \n",
      " dense (Dense)               (None, 1)                 51        \n",
      "                                                                 \n",
      "=================================================================\n",
      "Total params: 50,851\n",
      "Trainable params: 50,851\n",
      "Non-trainable params: 0\n",
      "_________________________________________________________________\n"
     ]
    }
   ],
   "source": [
    "model.summary()"
   ]
  },
  {
   "cell_type": "code",
   "execution_count": 15,
   "metadata": {},
   "outputs": [
    {
     "name": "stdout",
     "output_type": "stream",
     "text": [
      "Epoch 1/20\n",
      "8256/8256 [==============================] - 727s 88ms/step - loss: 2.7116e-04\n",
      "Epoch 2/20\n",
      "8256/8256 [==============================] - 709s 86ms/step - loss: 3.2249e-04\n",
      "Epoch 3/20\n",
      "8256/8256 [==============================] - 708s 86ms/step - loss: 4.1341e-04\n",
      "Epoch 4/20\n",
      "8256/8256 [==============================] - 707s 86ms/step - loss: 4.6885e-04\n",
      "Epoch 5/20\n",
      "8256/8256 [==============================] - 710s 86ms/step - loss: 4.8070e-04\n",
      "Epoch 6/20\n",
      "8256/8256 [==============================] - 709s 86ms/step - loss: 4.8870e-04\n",
      "Epoch 7/20\n",
      "8256/8256 [==============================] - 709s 86ms/step - loss: 4.9942e-04\n",
      "Epoch 8/20\n",
      "8256/8256 [==============================] - 709s 86ms/step - loss: 5.3843e-04\n",
      "Epoch 9/20\n",
      "8256/8256 [==============================] - 702s 85ms/step - loss: 5.0717e-04\n",
      "Epoch 10/20\n",
      "8256/8256 [==============================] - 691s 84ms/step - loss: 4.9752e-04\n",
      "Epoch 11/20\n",
      "8256/8256 [==============================] - 693s 84ms/step - loss: 5.3583e-04\n",
      "Epoch 12/20\n",
      "8256/8256 [==============================] - 692s 84ms/step - loss: 5.2344e-04\n",
      "Epoch 13/20\n",
      "8256/8256 [==============================] - 692s 84ms/step - loss: 5.2839e-04\n",
      "Epoch 14/20\n",
      "8256/8256 [==============================] - 691s 84ms/step - loss: 5.3243e-04\n",
      "Epoch 15/20\n",
      "8256/8256 [==============================] - 691s 84ms/step - loss: 5.3860e-04\n",
      "Epoch 16/20\n",
      "8256/8256 [==============================] - 692s 84ms/step - loss: 5.3996e-04\n",
      "Epoch 17/20\n",
      "8256/8256 [==============================] - 690s 84ms/step - loss: 5.0936e-04\n",
      "Epoch 18/20\n",
      "8256/8256 [==============================] - 690s 84ms/step - loss: 5.5104e-04\n",
      "Epoch 19/20\n",
      "8256/8256 [==============================] - 690s 84ms/step - loss: 5.5553e-04\n",
      "Epoch 20/20\n",
      "8256/8256 [==============================] - 692s 84ms/step - loss: 6.0005e-04\n"
     ]
    },
    {
     "data": {
      "text/plain": [
       "<keras.callbacks.History at 0x7f62c1451700>"
      ]
     },
     "execution_count": 15,
     "metadata": {},
     "output_type": "execute_result"
    }
   ],
   "source": [
    "model.fit(X_train, y_train, epochs=20, batch_size=64, shuffle=False)"
   ]
  },
  {
   "cell_type": "code",
   "execution_count": 16,
   "metadata": {},
   "outputs": [
    {
     "name": "stdout",
     "output_type": "stream",
     "text": [
      "4126/4126 [==============================] - 84s 20ms/step\n"
     ]
    }
   ],
   "source": [
    "test_predict = model.predict(X_test)"
   ]
  },
  {
   "cell_type": "code",
   "execution_count": 17,
   "metadata": {},
   "outputs": [
    {
     "name": "stdout",
     "output_type": "stream",
     "text": [
      "MSE 0.027505147903533013\n",
      "R2 -2.400493943297334\n"
     ]
    }
   ],
   "source": [
    "print(f'MSE {mean_squared_error(y_test, test_predict)}')\n",
    "print(f'R2 {r2_score(y_test, test_predict)}')"
   ]
  },
  {
   "cell_type": "code",
   "execution_count": 18,
   "metadata": {},
   "outputs": [
    {
     "name": "stdout",
     "output_type": "stream",
     "text": [
      "16511/16511 [==============================] - 332s 20ms/step\n"
     ]
    }
   ],
   "source": [
    "test_predict= scaler.inverse_transform(test_predict)\n",
    "train_predict = model.predict(X_train)\n",
    "train_predict=scaler.inverse_transform(train_predict)"
   ]
  },
  {
   "cell_type": "code",
   "execution_count": 19,
   "metadata": {},
   "outputs": [],
   "source": [
    "look_back = 100\n",
    "\n",
    "trainPredictPlot = np.empty_like(df1)\n",
    "trainPredictPlot[:,:] = np.nan\n",
    "trainPredictPlot[look_back:len(train_predict)+look_back, :] = train_predict\n",
    "\n",
    "testPredictPlot = np.empty_like(df1)\n",
    "testPredictPlot[:,:] = np.nan\n",
    "testPredictPlot[len(train_predict)+(look_back*2)+1:len(df1)-1, :] = test_predict"
   ]
  },
  {
   "cell_type": "code",
   "execution_count": 20,
   "metadata": {},
   "outputs": [
    {
     "data": {
      "text/plain": [
       "<matplotlib.legend.Legend at 0x7f62bccb1610>"
      ]
     },
     "execution_count": 20,
     "metadata": {},
     "output_type": "execute_result"
    },
    {
     "data": {
      "image/png": "[encoded data removed]",
      "text/plain": [
       "<Figure size 1440x576 with 1 Axes>"
      ]
     },
     "metadata": {
      "needs_background": "light"
     },
     "output_type": "display_data"
    }
   ],
   "source": [
    "plt.figure(figsize=(20,8))\n",
    "plt.plot(scaler.inverse_transform(df1), label = 'Main Dataset')\n",
    "plt.plot(trainPredictPlot, label = 'Train Dataset')\n",
    "plt.plot(testPredictPlot, label = 'Test Dataset')\n",
    "plt.legend()"
   ]
  },
  {
   "cell_type": "code",
   "execution_count": 21,
   "metadata": {},
   "outputs": [],
   "source": [
    "x_input = df1[len(df1)-100:].reshape(1,-1)"
   ]
  },
  {
   "cell_type": "code",
   "execution_count": 22,
   "metadata": {},
   "outputs": [],
   "source": [
    "x_input = x_input.reshape((1,100,1))\n",
    "y_predict = model.predict(x_input, verbose = 0)\n",
    "next_day_value = scaler.inverse_transform(y_predict)"
   ]
  },
  {
   "cell_type": "code",
   "execution_count": 23,
   "metadata": {},
   "outputs": [
    {
     "data": {
      "text/plain": [
       "array([[1951.2045]], dtype=float32)"
      ]
     },
     "execution_count": 23,
     "metadata": {},
     "output_type": "execute_result"
    }
   ],
   "source": [
    "next_day_value"
   ]
  }
 ],
 "metadata": {
  "kernelspec": {
   "display_name": "Python 3",
   "language": "python",
   "name": "python3"
  },
  "language_info": {
   "codemirror_mode": {
    "name": "ipython",
    "version": 3
   },
   "file_extension": ".py",
   "mimetype": "text/x-python",
   "name": "python",
   "nbconvert_exporter": "python",
   "pygments_lexer": "ipython3",
   "version": "3.8.8"
  }
 },
 "nbformat": 4,
 "nbformat_minor": 4
}
