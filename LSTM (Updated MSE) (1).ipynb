{
 "cells": [
  {
   "cell_type": "markdown",
   "metadata": {},
   "source": [
    "# LSTM"
   ]
  },
  {
   "cell_type": "code",
   "execution_count": 1,
   "metadata": {},
   "outputs": [],
   "source": [
    "import pandas as pd\n",
    "import numpy as np\n",
    "%matplotlib inline\n",
    "from keras.models import Sequential\n",
    "from keras.layers import Dense, LSTM, Dropout, GRU\n",
    "from sklearn.preprocessing import MinMaxScaler\n",
    "from sklearn.metrics import mean_squared_error, r2_score\n",
    "import math\n",
    "import matplotlib.pyplot as plt"
   ]
  },
  {
   "cell_type": "markdown",
   "metadata": {},
   "source": [
    "# Load Data"
   ]
  },
  {
   "cell_type": "code",
   "execution_count": 2,
   "metadata": {},
   "outputs": [
    {
     "data": {
      "text/plain": [
       "0       131288.958237\n",
       "1       131832.877280\n",
       "2       129468.922827\n",
       "3       129249.723173\n",
       "4       127985.717387\n",
       "            ...      \n",
       "1764    257670.968933\n",
       "1765    259022.745291\n",
       "1766    258462.879837\n",
       "1767    259788.447905\n",
       "1768    260920.830000\n",
       "Name: close, Length: 1769, dtype: float64"
      ]
     },
     "execution_count": 2,
     "metadata": {},
     "output_type": "execute_result"
    }
   ],
   "source": [
    "df = pd.read_csv('aggregate_data_daily.csv')\n",
    "df1 = df['close']\n",
    "df1"
   ]
  },
  {
   "cell_type": "code",
   "execution_count": 3,
   "metadata": {},
   "outputs": [],
   "source": [
    "df1_max = max(df['close'])\n",
    "df1_min = min(df['close'])"
   ]
  },
  {
   "cell_type": "markdown",
   "metadata": {},
   "source": [
    "# Data Preprocessing"
   ]
  },
  {
   "cell_type": "code",
   "execution_count": 4,
   "metadata": {},
   "outputs": [],
   "source": [
    "scaler = MinMaxScaler(feature_range = (0,1))\n",
    "df1 = scaler.fit_transform(np.array(df1).reshape(-1,1))"
   ]
  },
  {
   "cell_type": "code",
   "execution_count": 5,
   "metadata": {},
   "outputs": [],
   "source": [
    "training_size=int(len(df1)*0.8694177501413228)\n",
    "test_size = len(df1) - training_size\n",
    "train_data, test_data = df1[0:training_size,:], df1[training_size:len(df1),:1]"
   ]
  },
  {
   "cell_type": "code",
   "execution_count": 6,
   "metadata": {},
   "outputs": [],
   "source": [
    "def create_dataset(dataset, time_step=1):\n",
    "    dataX, dataY = [], []\n",
    "    for i in range(len(dataset)-time_step-1):\n",
    "        a = dataset[i:(i+time_step), 0]\n",
    "        dataX.append(a)\n",
    "        dataY.append(dataset[i+time_step, 0])\n",
    "    return np.array(dataX), np.array(dataY)"
   ]
  },
  {
   "cell_type": "markdown",
   "metadata": {},
   "source": [
    "# Train/Test Split"
   ]
  },
  {
   "cell_type": "code",
   "execution_count": 7,
   "metadata": {},
   "outputs": [],
   "source": [
    "time_step=100\n",
    "X_train, y_train = create_dataset(train_data, time_step)\n",
    "X_train2, y_train2 = X_train, y_train\n",
    "X_test, y_test = create_dataset(test_data, time_step)\n",
    "X_test2, y_test2 = X_test, y_test"
   ]
  },
  {
   "cell_type": "code",
   "execution_count": 8,
   "metadata": {},
   "outputs": [],
   "source": [
    "X_train=X_train.reshape(X_train.shape[0], X_train.shape[1],1)\n",
    "X_test=X_test.reshape(X_test.shape[0], X_test.shape[1],1)"
   ]
  },
  {
   "cell_type": "code",
   "execution_count": 9,
   "metadata": {},
   "outputs": [
    {
     "data": {
      "text/plain": [
       "100"
      ]
     },
     "execution_count": 9,
     "metadata": {},
     "output_type": "execute_result"
    }
   ],
   "source": [
    "X_train.shape[1]"
   ]
  },
  {
   "cell_type": "markdown",
   "metadata": {},
   "source": [
    "# Model"
   ]
  },
  {
   "cell_type": "code",
   "execution_count": 10,
   "metadata": {},
   "outputs": [],
   "source": [
    "# create and fit the LSTM network\n",
    "model = Sequential()\n",
    "model.add(LSTM(50, activation = 'relu', return_sequences = True,  input_shape=(X_train.shape[1], 1)))\n",
    "model.add(Dropout(0.2))\n",
    "model.add(LSTM(50, return_sequences = True))\n",
    "model.add(Dropout(0.2))\n",
    "model.add(LSTM(50))\n",
    "model.add(Dense(1))\n",
    "model.compile(loss='mean_squared_error', optimizer='adam')"
   ]
  },
  {
   "cell_type": "code",
   "execution_count": 11,
   "metadata": {},
   "outputs": [
    {
     "name": "stdout",
     "output_type": "stream",
     "text": [
      "Model: \"sequential\"\n",
      "_________________________________________________________________\n",
      " Layer (type)                Output Shape              Param #   \n",
      "=================================================================\n",
      " lstm (LSTM)                 (None, 100, 50)           10400     \n",
      "                                                                 \n",
      " dropout (Dropout)           (None, 100, 50)           0         \n",
      "                                                                 \n",
      " lstm_1 (LSTM)               (None, 100, 50)           20200     \n",
      "                                                                 \n",
      " dropout_1 (Dropout)         (None, 100, 50)           0         \n",
      "                                                                 \n",
      " lstm_2 (LSTM)               (None, 50)                20200     \n",
      "                                                                 \n",
      " dense (Dense)               (None, 1)                 51        \n",
      "                                                                 \n",
      "=================================================================\n",
      "Total params: 50,851\n",
      "Trainable params: 50,851\n",
      "Non-trainable params: 0\n",
      "_________________________________________________________________\n"
     ]
    }
   ],
   "source": [
    "model.summary()"
   ]
  },
  {
   "cell_type": "code",
   "execution_count": 12,
   "metadata": {},
   "outputs": [
    {
     "name": "stdout",
     "output_type": "stream",
     "text": [
      "Epoch 1/20\n",
      "23/23 [==============================] - 6s 90ms/step - loss: 0.0079\n",
      "Epoch 2/20\n",
      "23/23 [==============================] - 2s 92ms/step - loss: 0.0301\n",
      "Epoch 3/20\n",
      "23/23 [==============================] - 2s 91ms/step - loss: 0.0090\n",
      "Epoch 4/20\n",
      "23/23 [==============================] - 2s 91ms/step - loss: 0.0048\n",
      "Epoch 5/20\n",
      "23/23 [==============================] - 2s 92ms/step - loss: 0.0020\n",
      "Epoch 6/20\n",
      "23/23 [==============================] - 2s 91ms/step - loss: 0.0062\n",
      "Epoch 7/20\n",
      "23/23 [==============================] - 2s 92ms/step - loss: 0.0026\n",
      "Epoch 8/20\n",
      "23/23 [==============================] - 2s 90ms/step - loss: 0.0068\n",
      "Epoch 9/20\n",
      "23/23 [==============================] - 2s 92ms/step - loss: 0.0025\n",
      "Epoch 10/20\n",
      "23/23 [==============================] - 2s 90ms/step - loss: 0.0050\n",
      "Epoch 11/20\n",
      "23/23 [==============================] - 2s 91ms/step - loss: 0.0022\n",
      "Epoch 12/20\n",
      "23/23 [==============================] - 2s 91ms/step - loss: 0.0042\n",
      "Epoch 13/20\n",
      "23/23 [==============================] - 2s 91ms/step - loss: 0.0024\n",
      "Epoch 14/20\n",
      "23/23 [==============================] - 2s 90ms/step - loss: 0.0035\n",
      "Epoch 15/20\n",
      "23/23 [==============================] - 2s 91ms/step - loss: 0.0022\n",
      "Epoch 16/20\n",
      "23/23 [==============================] - 2s 91ms/step - loss: 0.0026\n",
      "Epoch 17/20\n",
      "23/23 [==============================] - 2s 92ms/step - loss: 0.0019\n",
      "Epoch 18/20\n",
      "23/23 [==============================] - 2s 91ms/step - loss: 0.0026\n",
      "Epoch 19/20\n",
      "23/23 [==============================] - 2s 91ms/step - loss: 0.0022\n",
      "Epoch 20/20\n",
      "23/23 [==============================] - 2s 90ms/step - loss: 0.0038\n"
     ]
    },
    {
     "data": {
      "text/plain": [
       "<keras.callbacks.History at 0x7f41c82302b0>"
      ]
     },
     "execution_count": 12,
     "metadata": {},
     "output_type": "execute_result"
    }
   ],
   "source": [
    "model.fit(X_train, y_train, epochs=20, batch_size=64, shuffle=False)"
   ]
  },
  {
   "cell_type": "markdown",
   "metadata": {},
   "source": [
    "# Prediction"
   ]
  },
  {
   "cell_type": "code",
   "execution_count": 13,
   "metadata": {},
   "outputs": [
    {
     "name": "stdout",
     "output_type": "stream",
     "text": [
      "5/5 [==============================] - 1s 20ms/step\n"
     ]
    }
   ],
   "source": [
    "test_predict = model.predict(X_test)"
   ]
  },
  {
   "cell_type": "code",
   "execution_count": 14,
   "metadata": {},
   "outputs": [
    {
     "name": "stdout",
     "output_type": "stream",
     "text": [
      "MSE 0.002328346998219078\n",
      "R2 0.5675889222814803\n"
     ]
    }
   ],
   "source": [
    "print(f'MSE {mean_squared_error(y_test, test_predict)}')\n",
    "print(f'R2 {r2_score(y_test, test_predict)}')"
   ]
  },
  {
   "cell_type": "code",
   "execution_count": 15,
   "metadata": {
    "scrolled": true
   },
   "outputs": [
    {
     "name": "stdout",
     "output_type": "stream",
     "text": [
      "45/45 [==============================] - 1s 22ms/step\n"
     ]
    }
   ],
   "source": [
    "test_predict= scaler.inverse_transform(test_predict)\n",
    "train_predict = model.predict(X_train)\n",
    "train_predict=scaler.inverse_transform(train_predict)"
   ]
  },
  {
   "cell_type": "code",
   "execution_count": 16,
   "metadata": {},
   "outputs": [
    {
     "data": {
      "text/plain": [
       "array([[118568.32 ],\n",
       "       [118874.695],\n",
       "       [119173.836],\n",
       "       ...,\n",
       "       [273465.94 ],\n",
       "       [273949.2  ],\n",
       "       [274421.8  ]], dtype=float32)"
      ]
     },
     "execution_count": 16,
     "metadata": {},
     "output_type": "execute_result"
    }
   ],
   "source": [
    "train_predict"
   ]
  },
  {
   "cell_type": "code",
   "execution_count": 17,
   "metadata": {},
   "outputs": [
    {
     "data": {
      "text/plain": [
       "array([250990.87173333, 252383.4773842 , 257239.8016    , 259817.70643432,\n",
       "       258414.35147849, 258248.80712329, 258948.98482385, 259795.67562674,\n",
       "       257272.32018717, 257450.47179487, 253149.91147541, 255616.87613333,\n",
       "       254892.62043597, 251723.23077957, 254792.68016997, 252332.78756684,\n",
       "       253962.28968927, 255839.57866848, 251508.9228    , 248868.17144772,\n",
       "       246473.07797297, 239157.38293333, 236735.6       , 237949.88310992,\n",
       "       235004.6094086 , 230609.33404826, 232405.67735849, 230783.83672087,\n",
       "       233148.66852861, 236140.60613333, 231000.73696237, 234802.57743243,\n",
       "       237334.0092246 , 234764.85502717, 233221.25528455, 232239.80569106,\n",
       "       236877.87105263, 241390.27589041, 241909.95923913, 240486.86260054,\n",
       "       239169.80094851, 238268.8152815 , 234924.30512129, 232116.63203753,\n",
       "       232497.6596    , 231859.98773585, 230983.70482574, 226703.83096515,\n",
       "       227020.89663979, 227087.04301075, 225304.62198391, 220748.5188    ,\n",
       "       227964.4       , 230841.46917404, 229694.29400545, 229941.21202703,\n",
       "       229928.04825073, 229573.27177419, 232187.43486486, 234962.12773333,\n",
       "       236586.38026667, 239821.12125668, 240215.68950954, 240619.65735294,\n",
       "       240017.3556    , 239847.65225352, 238669.96353887, 239344.8489071 ,\n",
       "       242263.78700565, 242993.66040462, 245520.71035422, 246076.8502809 ,\n",
       "       248339.36420613, 247724.94716981, 246260.75458333, 246721.72676056,\n",
       "       250932.16306818, 253051.27038043, 255670.47906667, 257256.20306667,\n",
       "       256234.5696    , 256995.04371658, 258592.60121951, 258628.0912    ,\n",
       "       258778.91276882, 260724.56729107, 260284.28075843, 262797.55955679,\n",
       "       264512.19530831, 264147.59306667, 262903.568     , 258459.64097035,\n",
       "       258195.87741935, 261829.45973451, 262075.05989305, 261408.20534759,\n",
       "       261117.71266846, 260993.70819892, 262246.50467914, 265639.58061497,\n",
       "       268168.30588235, 268314.23586667, 269529.97413333, 269765.89177898,\n",
       "       269973.40588235, 265951.60900538, 264711.21946667, 268331.02210243,\n",
       "       265887.0172    , 263946.68186667, 260826.6036    , 255205.84253333,\n",
       "       254763.4256    , 254297.3484    , 253503.95723861, 254579.0504    ,\n",
       "       253991.50186667, 256590.02053333, 258034.27820856, 256941.0052139 ,\n",
       "       255399.84193548, 254314.474     , 252915.43763441, 252732.5208    ,\n",
       "       255376.81965241, 254610.58026667, 257670.96893333, 259022.74529086,\n",
       "       258462.87983651, 259788.44790503])"
      ]
     },
     "execution_count": 17,
     "metadata": {},
     "output_type": "execute_result"
    }
   ],
   "source": [
    "y_test2 = (y_test * (df1_max - df1_min)) + df1_min\n",
    "y_test2"
   ]
  },
  {
   "cell_type": "code",
   "execution_count": 18,
   "metadata": {},
   "outputs": [
    {
     "name": "stdout",
     "output_type": "stream",
     "text": [
      "MSE 67131727.56818724\n",
      "R2 0.567588725726671\n"
     ]
    }
   ],
   "source": [
    "print(f'MSE {mean_squared_error(y_test2, test_predict)}')\n",
    "print(f'R2 {r2_score(y_test2, test_predict)}')"
   ]
  },
  {
   "cell_type": "code",
   "execution_count": 19,
   "metadata": {},
   "outputs": [],
   "source": [
    "look_back = 100\n",
    "\n",
    "trainPredictPlot = np.empty_like(df1)\n",
    "trainPredictPlot[:,:] = np.nan\n",
    "trainPredictPlot[look_back:len(train_predict)+look_back, :] = train_predict\n",
    "\n",
    "testPredictPlot = np.empty_like(df1)\n",
    "testPredictPlot[:,:] = np.nan\n",
    "testPredictPlot[len(train_predict)+(look_back*2)+1:len(df1)-1, :] = test_predict"
   ]
  },
  {
   "cell_type": "code",
   "execution_count": 20,
   "metadata": {},
   "outputs": [
    {
     "data": {
      "text/plain": [
       "<matplotlib.legend.Legend at 0x7f41a41a09d0>"
      ]
     },
     "execution_count": 20,
     "metadata": {},
     "output_type": "execute_result"
    },
    {
     "data": {
      "image/png": "[encoded data removed]",
      "text/plain": [
       "<Figure size 1440x576 with 1 Axes>"
      ]
     },
     "metadata": {
      "needs_background": "light"
     },
     "output_type": "display_data"
    }
   ],
   "source": [
    "plt.figure(figsize=(20,8))\n",
    "plt.plot(scaler.inverse_transform(df1), label = 'Main Dataset')\n",
    "plt.plot(trainPredictPlot, label = 'Train Dataset')\n",
    "plt.plot(testPredictPlot, label = 'Test Dataset')\n",
    "plt.legend()"
   ]
  },
  {
   "cell_type": "code",
   "execution_count": null,
   "metadata": {},
   "outputs": [],
   "source": []
  }
 ],
 "metadata": {
  "kernelspec": {
   "display_name": "Python 3",
   "language": "python",
   "name": "python3"
  },
  "language_info": {
   "codemirror_mode": {
    "name": "ipython",
    "version": 3
   },
   "file_extension": ".py",
   "mimetype": "text/x-python",
   "name": "python",
   "nbconvert_exporter": "python",
   "pygments_lexer": "ipython3",
   "version": "3.8.8"
  }
 },
 "nbformat": 4,
 "nbformat_minor": 5
}
