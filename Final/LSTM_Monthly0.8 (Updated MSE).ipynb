{
 "cells": [
  {
   "cell_type": "markdown",
   "metadata": {},
   "source": [
    "# LSTM"
   ]
  },
  {
   "cell_type": "code",
   "execution_count": 1,
   "metadata": {},
   "outputs": [],
   "source": [
    "import pandas as pd\n",
    "import numpy as np\n",
    "%matplotlib inline\n",
    "from keras.models import Sequential\n",
    "from keras.layers import Dense, LSTM, Dropout\n",
    "from sklearn.preprocessing import MinMaxScaler\n",
    "from sklearn.metrics import mean_squared_error, r2_score\n",
    "import math\n",
    "import matplotlib.pyplot as plt\n",
    "import random"
   ]
  },
  {
   "cell_type": "markdown",
   "metadata": {},
   "source": [
    "# Set Seed"
   ]
  },
  {
   "cell_type": "code",
   "execution_count": 2,
   "metadata": {},
   "outputs": [],
   "source": [
    "random.seed(10)"
   ]
  },
  {
   "cell_type": "markdown",
   "metadata": {},
   "source": [
    "# Load Data"
   ]
  },
  {
   "cell_type": "code",
   "execution_count": 3,
   "metadata": {},
   "outputs": [],
   "source": [
    "agg_data_monthly = pd.read_csv(\"aggregate_data_daily.csv\", parse_dates=True)\n",
    "agg_data_monthly['date'] = pd.to_datetime(agg_data_monthly.date).dt.strftime(\"%Y-%m\")\n",
    "agg_data_monthly.sort_values(by='date',ascending=False)\n",
    "agg_data_monthly = agg_data_monthly.groupby([\"date\"]).mean()\n",
    "agg_data_monthly.index = pd.DatetimeIndex(agg_data_monthly.index)"
   ]
  },
  {
   "cell_type": "code",
   "execution_count": 4,
   "metadata": {},
   "outputs": [
    {
     "data": {
      "text/plain": [
       "0     131662.912162\n",
       "1     134029.758441\n",
       "2     130201.195084\n",
       "3     128641.653752\n",
       "4     124706.381832\n",
       "          ...      \n",
       "88    230863.450167\n",
       "89    241987.177965\n",
       "90    259750.665171\n",
       "91    262783.471016\n",
       "92    256451.490138\n",
       "Name: close, Length: 93, dtype: float64"
      ]
     },
     "execution_count": 4,
     "metadata": {},
     "output_type": "execute_result"
    }
   ],
   "source": [
    "df = agg_data_monthly.reset_index()\n",
    "df1 = df['close']\n",
    "df1"
   ]
  },
  {
   "cell_type": "markdown",
   "metadata": {},
   "source": [
    "### Monthly"
   ]
  },
  {
   "cell_type": "code",
   "execution_count": 5,
   "metadata": {},
   "outputs": [],
   "source": [
    "df1_max = max(df['close'])\n",
    "df1_min = min(df['close'])"
   ]
  },
  {
   "cell_type": "markdown",
   "metadata": {},
   "source": [
    "# Data Preprocessing"
   ]
  },
  {
   "cell_type": "code",
   "execution_count": 6,
   "metadata": {},
   "outputs": [],
   "source": [
    "scaler = MinMaxScaler(feature_range = (0,1))\n",
    "df1 = scaler.fit_transform(np.array(df1).reshape(-1,1))"
   ]
  },
  {
   "cell_type": "code",
   "execution_count": 7,
   "metadata": {},
   "outputs": [],
   "source": [
    "training_size=int(len(df1)*0.8)\n",
    "test_size = len(df1) - training_size\n",
    "train_data, test_data = df1[0:training_size,:], df1[training_size:len(df1),:1]"
   ]
  },
  {
   "cell_type": "code",
   "execution_count": 8,
   "metadata": {},
   "outputs": [],
   "source": [
    "def create_dataset(dataset, time_step=1):\n",
    "    dataX, dataY = [], []\n",
    "    for i in range(len(dataset)-time_step-1):\n",
    "        a = dataset[i:(i+time_step), 0]\n",
    "        dataX.append(a)\n",
    "        dataY.append(dataset[i+time_step, 0])\n",
    "    return np.array(dataX), np.array(dataY)"
   ]
  },
  {
   "cell_type": "markdown",
   "metadata": {},
   "source": [
    "# Train/Test Split"
   ]
  },
  {
   "cell_type": "code",
   "execution_count": 9,
   "metadata": {},
   "outputs": [],
   "source": [
    "time_step=5\n",
    "X_train, y_train = create_dataset(train_data, time_step)\n",
    "X_train2, y_train2 = X_train, y_train\n",
    "X_test, y_test = create_dataset(test_data, time_step)\n",
    "X_test2, y_test2 = X_test, y_test"
   ]
  },
  {
   "cell_type": "code",
   "execution_count": 10,
   "metadata": {},
   "outputs": [
    {
     "data": {
      "text/plain": [
       "array([[0.13282001, 0.14751455, 0.12374496, 0.11406257, 0.08963049],\n",
       "       [0.14751455, 0.12374496, 0.11406257, 0.08963049, 0.12862063],\n",
       "       [0.12374496, 0.11406257, 0.08963049, 0.12862063, 0.13741703],\n",
       "       [0.11406257, 0.08963049, 0.12862063, 0.13741703, 0.08213633],\n",
       "       [0.08963049, 0.12862063, 0.13741703, 0.08213633, 0.111108  ],\n",
       "       [0.12862063, 0.13741703, 0.08213633, 0.111108  , 0.07799453],\n",
       "       [0.13741703, 0.08213633, 0.111108  , 0.07799453, 0.05927781],\n",
       "       [0.08213633, 0.111108  , 0.07799453, 0.05927781, 0.0294239 ],\n",
       "       [0.111108  , 0.07799453, 0.05927781, 0.0294239 , 0.        ],\n",
       "       [0.07799453, 0.05927781, 0.0294239 , 0.        , 0.03137476],\n",
       "       [0.05927781, 0.0294239 , 0.        , 0.03137476, 0.07564493],\n",
       "       [0.0294239 , 0.        , 0.03137476, 0.07564493, 0.09203491],\n",
       "       [0.        , 0.03137476, 0.07564493, 0.09203491, 0.12879604],\n",
       "       [0.03137476, 0.07564493, 0.09203491, 0.12879604, 0.1826453 ],\n",
       "       [0.07564493, 0.09203491, 0.12879604, 0.1826453 , 0.21527157],\n",
       "       [0.09203491, 0.12879604, 0.1826453 , 0.21527157, 0.22679111],\n",
       "       [0.12879604, 0.1826453 , 0.21527157, 0.22679111, 0.22295998],\n",
       "       [0.1826453 , 0.21527157, 0.22679111, 0.22295998, 0.1589236 ],\n",
       "       [0.21527157, 0.22679111, 0.22295998, 0.1589236 , 0.13328981],\n",
       "       [0.22679111, 0.22295998, 0.1589236 , 0.13328981, 0.16104865],\n",
       "       [0.22295998, 0.1589236 , 0.13328981, 0.16104865, 0.20669075],\n",
       "       [0.1589236 , 0.13328981, 0.16104865, 0.20669075, 0.22039891],\n",
       "       [0.13328981, 0.16104865, 0.20669075, 0.22039891, 0.25367382],\n",
       "       [0.16104865, 0.20669075, 0.22039891, 0.25367382, 0.28835093],\n",
       "       [0.20669075, 0.22039891, 0.25367382, 0.28835093, 0.30243371],\n",
       "       [0.22039891, 0.25367382, 0.28835093, 0.30243371, 0.31928927],\n",
       "       [0.25367382, 0.28835093, 0.30243371, 0.31928927, 0.31768508],\n",
       "       [0.28835093, 0.30243371, 0.31928927, 0.31768508, 0.3315315 ],\n",
       "       [0.30243371, 0.31928927, 0.31768508, 0.3315315 , 0.3383335 ],\n",
       "       [0.31928927, 0.31768508, 0.3315315 , 0.3383335 , 0.34384336],\n",
       "       [0.31768508, 0.3315315 , 0.3383335 , 0.34384336, 0.35432185],\n",
       "       [0.3315315 , 0.3383335 , 0.34384336, 0.35432185, 0.37977638],\n",
       "       [0.3383335 , 0.34384336, 0.35432185, 0.37977638, 0.33924173],\n",
       "       [0.34384336, 0.35432185, 0.37977638, 0.33924173, 0.3069511 ],\n",
       "       [0.35432185, 0.37977638, 0.33924173, 0.3069511 , 0.35230167],\n",
       "       [0.37977638, 0.33924173, 0.3069511 , 0.35230167, 0.35200552],\n",
       "       [0.33924173, 0.3069511 , 0.35230167, 0.35200552, 0.35941372],\n",
       "       [0.3069511 , 0.35230167, 0.35200552, 0.35941372, 0.38050773],\n",
       "       [0.35230167, 0.35200552, 0.35941372, 0.38050773, 0.43184949],\n",
       "       [0.35200552, 0.35941372, 0.38050773, 0.43184949, 0.42178396],\n",
       "       [0.35941372, 0.38050773, 0.43184949, 0.42178396, 0.30552249],\n",
       "       [0.38050773, 0.43184949, 0.42178396, 0.30552249, 0.34336071],\n",
       "       [0.43184949, 0.42178396, 0.30552249, 0.34336071, 0.37734839],\n",
       "       [0.42178396, 0.30552249, 0.34336071, 0.37734839, 0.37437156],\n",
       "       [0.30552249, 0.34336071, 0.37734839, 0.37437156, 0.36282827],\n",
       "       [0.34336071, 0.37734839, 0.37437156, 0.36282827, 0.41004932],\n",
       "       [0.37734839, 0.37437156, 0.36282827, 0.41004932, 0.44211508],\n",
       "       [0.37437156, 0.36282827, 0.41004932, 0.44211508, 0.43256064],\n",
       "       [0.36282827, 0.41004932, 0.44211508, 0.43256064, 0.45617414],\n",
       "       [0.41004932, 0.44211508, 0.43256064, 0.45617414, 0.42929564],\n",
       "       [0.44211508, 0.43256064, 0.45617414, 0.42929564, 0.37428035],\n",
       "       [0.43256064, 0.45617414, 0.42929564, 0.37428035, 0.39653532],\n",
       "       [0.45617414, 0.42929564, 0.37428035, 0.39653532, 0.44275906],\n",
       "       [0.42929564, 0.37428035, 0.39653532, 0.44275906, 0.4916751 ],\n",
       "       [0.37428035, 0.39653532, 0.44275906, 0.4916751 , 0.49059916],\n",
       "       [0.39653532, 0.44275906, 0.4916751 , 0.49059916, 0.51393285],\n",
       "       [0.44275906, 0.4916751 , 0.49059916, 0.51393285, 0.53269246],\n",
       "       [0.4916751 , 0.49059916, 0.51393285, 0.53269246, 0.29534468],\n",
       "       [0.49059916, 0.51393285, 0.53269246, 0.29534468, 0.25969412],\n",
       "       [0.51393285, 0.53269246, 0.29534468, 0.25969412, 0.26320593],\n",
       "       [0.53269246, 0.29534468, 0.25969412, 0.26320593, 0.35097516],\n",
       "       [0.29534468, 0.25969412, 0.26320593, 0.35097516, 0.41290118],\n",
       "       [0.25969412, 0.26320593, 0.35097516, 0.41290118, 0.44943536],\n",
       "       [0.26320593, 0.35097516, 0.41290118, 0.44943536, 0.42881433],\n",
       "       [0.35097516, 0.41290118, 0.44943536, 0.42881433, 0.4667623 ],\n",
       "       [0.41290118, 0.44943536, 0.42881433, 0.4667623 , 0.54686704],\n",
       "       [0.44943536, 0.42881433, 0.4667623 , 0.54686704, 0.63965607],\n",
       "       [0.42881433, 0.4667623 , 0.54686704, 0.63965607, 0.69770347]])"
      ]
     },
     "execution_count": 10,
     "metadata": {},
     "output_type": "execute_result"
    }
   ],
   "source": [
    "X_train"
   ]
  },
  {
   "cell_type": "code",
   "execution_count": 11,
   "metadata": {},
   "outputs": [],
   "source": [
    "X_train=X_train.reshape(X_train.shape[0], X_train.shape[1],1)\n",
    "X_test=X_test.reshape(X_test.shape[0], X_test.shape[1],1)"
   ]
  },
  {
   "cell_type": "code",
   "execution_count": 12,
   "metadata": {},
   "outputs": [
    {
     "data": {
      "text/plain": [
       "5"
      ]
     },
     "execution_count": 12,
     "metadata": {},
     "output_type": "execute_result"
    }
   ],
   "source": [
    "X_train.shape[1]"
   ]
  },
  {
   "cell_type": "markdown",
   "metadata": {},
   "source": [
    "# Model"
   ]
  },
  {
   "cell_type": "code",
   "execution_count": 13,
   "metadata": {},
   "outputs": [],
   "source": [
    "# create and fit the LSTM network\n",
    "model = Sequential()\n",
    "model.add(LSTM(64, input_shape=(X_train.shape[1], 1)))\n",
    "model.add(Dropout(0.8))  # add a dropout layer with rate 0.8\n",
    "model.add(Dense(64, activation='relu'))\n",
    "model.add(Dropout(0.8))  # add a dropout layer with rate 0.8\n",
    "model.add(Dense(1, activation='relu'))\n",
    "model.compile(loss='mean_squared_error', optimizer='adam')"
   ]
  },
  {
   "cell_type": "code",
   "execution_count": 14,
   "metadata": {},
   "outputs": [
    {
     "name": "stdout",
     "output_type": "stream",
     "text": [
      "Model: \"sequential\"\n",
      "_________________________________________________________________\n",
      " Layer (type)                Output Shape              Param #   \n",
      "=================================================================\n",
      " lstm (LSTM)                 (None, 64)                16896     \n",
      "                                                                 \n",
      " dropout (Dropout)           (None, 64)                0         \n",
      "                                                                 \n",
      " dense (Dense)               (None, 64)                4160      \n",
      "                                                                 \n",
      " dropout_1 (Dropout)         (None, 64)                0         \n",
      "                                                                 \n",
      " dense_1 (Dense)             (None, 1)                 65        \n",
      "                                                                 \n",
      "=================================================================\n",
      "Total params: 21,121\n",
      "Trainable params: 21,121\n",
      "Non-trainable params: 0\n",
      "_________________________________________________________________\n"
     ]
    }
   ],
   "source": [
    "model.summary()"
   ]
  },
  {
   "cell_type": "code",
   "execution_count": 15,
   "metadata": {},
   "outputs": [
    {
     "name": "stdout",
     "output_type": "stream",
     "text": [
      "Epoch 1/20\n",
      "2/2 [==============================] - 11s 9ms/step - loss: 0.1004\n",
      "Epoch 2/20\n",
      "2/2 [==============================] - 0s 5ms/step - loss: 0.0941\n",
      "Epoch 3/20\n",
      "2/2 [==============================] - 0s 4ms/step - loss: 0.0819\n",
      "Epoch 4/20\n",
      "2/2 [==============================] - 0s 4ms/step - loss: 0.0769\n",
      "Epoch 5/20\n",
      "2/2 [==============================] - 0s 4ms/step - loss: 0.0756\n",
      "Epoch 6/20\n",
      "2/2 [==============================] - 0s 5ms/step - loss: 0.0675\n",
      "Epoch 7/20\n",
      "2/2 [==============================] - 0s 4ms/step - loss: 0.0507\n",
      "Epoch 8/20\n",
      "2/2 [==============================] - 0s 4ms/step - loss: 0.0621\n",
      "Epoch 9/20\n",
      "2/2 [==============================] - 0s 5ms/step - loss: 0.0507\n",
      "Epoch 10/20\n",
      "2/2 [==============================] - 0s 4ms/step - loss: 0.0504\n",
      "Epoch 11/20\n",
      "2/2 [==============================] - 0s 4ms/step - loss: 0.0497\n",
      "Epoch 12/20\n",
      "2/2 [==============================] - 0s 4ms/step - loss: 0.0563\n",
      "Epoch 13/20\n",
      "2/2 [==============================] - 0s 4ms/step - loss: 0.0488\n",
      "Epoch 14/20\n",
      "2/2 [==============================] - 0s 4ms/step - loss: 0.0484\n",
      "Epoch 15/20\n",
      "2/2 [==============================] - 0s 4ms/step - loss: 0.0482\n",
      "Epoch 16/20\n",
      "2/2 [==============================] - 0s 4ms/step - loss: 0.0630\n",
      "Epoch 17/20\n",
      "2/2 [==============================] - 0s 4ms/step - loss: 0.0536\n",
      "Epoch 18/20\n",
      "2/2 [==============================] - 0s 5ms/step - loss: 0.0680\n",
      "Epoch 19/20\n",
      "2/2 [==============================] - 0s 4ms/step - loss: 0.0546\n",
      "Epoch 20/20\n",
      "2/2 [==============================] - 0s 4ms/step - loss: 0.0410\n"
     ]
    },
    {
     "data": {
      "text/plain": [
       "<keras.callbacks.History at 0x7f71706275e0>"
      ]
     },
     "execution_count": 15,
     "metadata": {},
     "output_type": "execute_result"
    }
   ],
   "source": [
    "model.fit(X_train, y_train, epochs=20, batch_size=64, shuffle=False)"
   ]
  },
  {
   "cell_type": "markdown",
   "metadata": {},
   "source": [
    "# Prediction"
   ]
  },
  {
   "cell_type": "code",
   "execution_count": 16,
   "metadata": {},
   "outputs": [
    {
     "name": "stdout",
     "output_type": "stream",
     "text": [
      "1/1 [==============================] - 1s 531ms/step\n"
     ]
    }
   ],
   "source": [
    "test_predict = model.predict(X_test)"
   ]
  },
  {
   "cell_type": "code",
   "execution_count": 17,
   "metadata": {},
   "outputs": [
    {
     "name": "stdout",
     "output_type": "stream",
     "text": [
      "MSE 0.11545349262179348\n",
      "R2 -17.80367550605087\n"
     ]
    }
   ],
   "source": [
    "print(f'MSE {mean_squared_error(y_test, test_predict)}')\n",
    "print(f'R2 {r2_score(y_test, test_predict)}')"
   ]
  },
  {
   "cell_type": "code",
   "execution_count": 18,
   "metadata": {
    "scrolled": true
   },
   "outputs": [
    {
     "name": "stdout",
     "output_type": "stream",
     "text": [
      "3/3 [==============================] - 0s 2ms/step\n"
     ]
    }
   ],
   "source": [
    "test_predict= scaler.inverse_transform(test_predict)\n",
    "train_predict = model.predict(X_train)\n",
    "train_predict=scaler.inverse_transform(train_predict)"
   ]
  },
  {
   "cell_type": "code",
   "execution_count": 19,
   "metadata": {},
   "outputs": [
    {
     "data": {
      "text/plain": [
       "array([[145439.08],\n",
       "       [145341.08],\n",
       "       [145244.72],\n",
       "       [144777.94],\n",
       "       [144726.88],\n",
       "       [144539.16],\n",
       "       [143668.05],\n",
       "       [142352.47],\n",
       "       [141283.97],\n",
       "       [140284.27],\n",
       "       [140265.94],\n",
       "       [140742.62],\n",
       "       [142029.19],\n",
       "       [144288.64],\n",
       "       [146605.92],\n",
       "       [148650.06],\n",
       "       [150433.44],\n",
       "       [150769.86],\n",
       "       [149980.3 ],\n",
       "       [149171.3 ],\n",
       "       [148905.53],\n",
       "       [149018.73],\n",
       "       [150409.88],\n",
       "       [152586.83],\n",
       "       [154567.31],\n",
       "       [156168.77],\n",
       "       [157513.94],\n",
       "       [158575.53],\n",
       "       [159273.55],\n",
       "       [159853.69],\n",
       "       [160361.34],\n",
       "       [161238.67],\n",
       "       [161363.95],\n",
       "       [160882.45],\n",
       "       [160929.84],\n",
       "       [160891.28],\n",
       "       [160697.14],\n",
       "       [161329.  ],\n",
       "       [163070.2 ],\n",
       "       [164119.81],\n",
       "       [163457.81],\n",
       "       [163075.  ],\n",
       "       [162920.98],\n",
       "       [162198.36],\n",
       "       [161536.1 ],\n",
       "       [162953.1 ],\n",
       "       [164350.9 ],\n",
       "       [165232.3 ],\n",
       "       [166485.92],\n",
       "       [167443.98],\n",
       "       [166838.84],\n",
       "       [166061.1 ],\n",
       "       [166169.75],\n",
       "       [166832.4 ],\n",
       "       [167946.8 ],\n",
       "       [170077.58],\n",
       "       [172106.94],\n",
       "       [169849.53],\n",
       "       [166068.19],\n",
       "       [162477.27],\n",
       "       [160165.4 ],\n",
       "       [158906.47],\n",
       "       [161263.64],\n",
       "       [163716.8 ],\n",
       "       [166584.38],\n",
       "       [169494.84],\n",
       "       [173019.11],\n",
       "       [177007.36]], dtype=float32)"
      ]
     },
     "execution_count": 19,
     "metadata": {},
     "output_type": "execute_result"
    }
   ],
   "source": [
    "train_predict"
   ]
  },
  {
   "cell_type": "code",
   "execution_count": 20,
   "metadata": {},
   "outputs": [
    {
     "data": {
      "text/plain": [
       "array([268476.82550784, 271339.46890036, 269766.41264169, 259710.21503216,\n",
       "       266522.32926365, 256552.02812216, 244766.68692385, 255993.0336101 ,\n",
       "       237253.67220316, 230863.4501671 , 241987.17796531, 259750.66517148,\n",
       "       262783.47101631])"
      ]
     },
     "execution_count": 20,
     "metadata": {},
     "output_type": "execute_result"
    }
   ],
   "source": [
    "y_test2 = (y_test * (df1_max - df1_min)) + df1_min\n",
    "y_test2"
   ]
  },
  {
   "cell_type": "code",
   "execution_count": 21,
   "metadata": {},
   "outputs": [
    {
     "name": "stdout",
     "output_type": "stream",
     "text": [
      "MSE 2995267433.1665807\n",
      "R2 -17.80367465550245\n",
      "MAE 54729.03647211945\n"
     ]
    }
   ],
   "source": [
    "print(f'MSE {mean_squared_error(y_test2, test_predict)}')\n",
    "print(f'R2 {r2_score(y_test2, test_predict)}')\n",
    "print(f'MAE {math.sqrt(mean_squared_error(y_test2, test_predict))}')"
   ]
  },
  {
   "cell_type": "code",
   "execution_count": 22,
   "metadata": {},
   "outputs": [],
   "source": [
    "look_back = 5\n",
    "\n",
    "trainPredictPlot = np.empty_like(df1)\n",
    "trainPredictPlot[:,:] = np.nan\n",
    "trainPredictPlot[look_back:len(train_predict)+look_back, :] = train_predict\n",
    "\n",
    "testPredictPlot = np.empty_like(df1)\n",
    "testPredictPlot[:,:] = np.nan\n",
    "testPredictPlot[len(train_predict)+(look_back*2)+1:len(df1)-1, :] = test_predict"
   ]
  },
  {
   "cell_type": "code",
   "execution_count": 23,
   "metadata": {},
   "outputs": [
    {
     "data": {
      "text/plain": [
       "<matplotlib.legend.Legend at 0x7f717071f5e0>"
      ]
     },
     "execution_count": 23,
     "metadata": {},
     "output_type": "execute_result"
    },
    {
     "data": {
      "image/png": "[encoded data removed]",
      "text/plain": [
       "<Figure size 1440x576 with 1 Axes>"
      ]
     },
     "metadata": {
      "needs_background": "light"
     },
     "output_type": "display_data"
    }
   ],
   "source": [
    "plt.figure(figsize=(20,8))\n",
    "plt.rcParams.update({'font.size': 22})\n",
    "plt.plot(scaler.inverse_transform(df1), label = 'Main Dataset')\n",
    "plt.plot(trainPredictPlot, label = 'Train Dataset')\n",
    "plt.plot(testPredictPlot, label = 'Test Dataset')\n",
    "plt.legend()"
   ]
  },
  {
   "cell_type": "code",
   "execution_count": null,
   "metadata": {},
   "outputs": [],
   "source": []
  }
 ],
 "metadata": {
  "kernelspec": {
   "display_name": "Python 3",
   "language": "python",
   "name": "python3"
  },
  "language_info": {
   "codemirror_mode": {
    "name": "ipython",
    "version": 3
   },
   "file_extension": ".py",
   "mimetype": "text/x-python",
   "name": "python",
   "nbconvert_exporter": "python",
   "pygments_lexer": "ipython3",
   "version": "3.8.8"
  }
 },
 "nbformat": 4,
 "nbformat_minor": 5
}
