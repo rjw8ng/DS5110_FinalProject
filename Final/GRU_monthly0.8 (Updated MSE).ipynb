{
 "cells": [
  {
   "cell_type": "markdown",
   "metadata": {},
   "source": [
    "# GRU"
   ]
  },
  {
   "cell_type": "code",
   "execution_count": 1,
   "metadata": {},
   "outputs": [],
   "source": [
    "import pandas as pd\n",
    "import numpy as np\n",
    "%matplotlib inline\n",
    "from keras.models import Sequential\n",
    "from keras.layers import Dense, Dropout, GRU\n",
    "from sklearn.preprocessing import MinMaxScaler\n",
    "from sklearn.metrics import mean_squared_error, r2_score\n",
    "import math\n",
    "import matplotlib.pyplot as plt\n",
    "import random"
   ]
  },
  {
   "cell_type": "markdown",
   "metadata": {},
   "source": [
    "# Set seed"
   ]
  },
  {
   "cell_type": "code",
   "execution_count": 2,
   "metadata": {},
   "outputs": [],
   "source": [
    "random.seed(10)"
   ]
  },
  {
   "cell_type": "markdown",
   "metadata": {},
   "source": [
    "# Load Data"
   ]
  },
  {
   "cell_type": "code",
   "execution_count": 3,
   "metadata": {},
   "outputs": [],
   "source": [
    "agg_data_monthly = pd.read_csv(\"aggregate_data_daily.csv\", parse_dates=True)\n",
    "agg_data_monthly['date'] = pd.to_datetime(agg_data_monthly.date).dt.strftime(\"%Y-%m\")\n",
    "agg_data_monthly.sort_values(by='date',ascending=False)\n",
    "agg_data_monthly = agg_data_monthly.groupby([\"date\"]).mean()\n",
    "agg_data_monthly.index = pd.DatetimeIndex(agg_data_monthly.index)\n",
    "df = agg_data_monthly.reset_index()"
   ]
  },
  {
   "cell_type": "code",
   "execution_count": 4,
   "metadata": {},
   "outputs": [
    {
     "data": {
      "text/plain": [
       "0     131662.912162\n",
       "1     134029.758441\n",
       "2     130201.195084\n",
       "3     128641.653752\n",
       "4     124706.381832\n",
       "          ...      \n",
       "88    230863.450167\n",
       "89    241987.177965\n",
       "90    259750.665171\n",
       "91    262783.471016\n",
       "92    256451.490138\n",
       "Name: close, Length: 93, dtype: float64"
      ]
     },
     "execution_count": 4,
     "metadata": {},
     "output_type": "execute_result"
    }
   ],
   "source": [
    "df1 = df['close']\n",
    "df1"
   ]
  },
  {
   "cell_type": "code",
   "execution_count": 5,
   "metadata": {},
   "outputs": [],
   "source": [
    "df1_max = max(df['close'])\n",
    "df1_min = min(df['close'])"
   ]
  },
  {
   "cell_type": "markdown",
   "metadata": {},
   "source": [
    "# Data Preprocessing"
   ]
  },
  {
   "cell_type": "code",
   "execution_count": 6,
   "metadata": {},
   "outputs": [],
   "source": [
    "scaler = MinMaxScaler(feature_range = (0,1))\n",
    "df1 = scaler.fit_transform(np.array(df1).reshape(-1,1))"
   ]
  },
  {
   "cell_type": "code",
   "execution_count": 7,
   "metadata": {},
   "outputs": [],
   "source": [
    "training_size=int(len(df1)*0.8)\n",
    "test_size = len(df1) - training_size\n",
    "train_data, test_data = df1[0:training_size,:], df1[training_size:len(df1),:1]"
   ]
  },
  {
   "cell_type": "code",
   "execution_count": 8,
   "metadata": {},
   "outputs": [],
   "source": [
    "def create_dataset(dataset, time_step=1):\n",
    "    dataX, dataY = [], []\n",
    "    for i in range(len(dataset)-time_step-1):\n",
    "        a = dataset[i:(i+time_step), 0]\n",
    "        dataX.append(a)\n",
    "        dataY.append(dataset[i+time_step, 0])\n",
    "    return np.array(dataX), np.array(dataY)"
   ]
  },
  {
   "cell_type": "markdown",
   "metadata": {},
   "source": [
    "# Train/Test Split"
   ]
  },
  {
   "cell_type": "code",
   "execution_count": 9,
   "metadata": {},
   "outputs": [],
   "source": [
    "time_step=5\n",
    "X_train, y_train = create_dataset(train_data, time_step)\n",
    "X_train2, y_train2 = X_train, y_train\n",
    "X_test, y_test = create_dataset(test_data, time_step)\n",
    "X_test2, y_test2 = X_test, y_test"
   ]
  },
  {
   "cell_type": "code",
   "execution_count": 10,
   "metadata": {},
   "outputs": [],
   "source": [
    "X_train=X_train.reshape(X_train.shape[0], X_train.shape[1],1)\n",
    "X_test=X_test.reshape(X_test.shape[0], X_test.shape[1],1)"
   ]
  },
  {
   "cell_type": "code",
   "execution_count": 11,
   "metadata": {},
   "outputs": [
    {
     "data": {
      "text/plain": [
       "5"
      ]
     },
     "execution_count": 11,
     "metadata": {},
     "output_type": "execute_result"
    }
   ],
   "source": [
    "X_train.shape[1]"
   ]
  },
  {
   "cell_type": "markdown",
   "metadata": {},
   "source": [
    "# Model"
   ]
  },
  {
   "cell_type": "code",
   "execution_count": 12,
   "metadata": {},
   "outputs": [],
   "source": [
    "# create and fit the GRU network\n",
    "model = Sequential()\n",
    "model.add(GRU(64, input_shape=(X_train.shape[1], 1)))\n",
    "model.add(Dropout(0.8))  # add a dropout layer with rate 0.8\n",
    "model.add(Dense(64, activation='relu'))\n",
    "model.add(Dropout(0.8))  # add a dropout layer with rate 0.8\n",
    "model.add(Dense(1, activation='relu'))\n",
    "model.compile(loss='mean_squared_error', optimizer='adam')"
   ]
  },
  {
   "cell_type": "code",
   "execution_count": 13,
   "metadata": {},
   "outputs": [
    {
     "name": "stdout",
     "output_type": "stream",
     "text": [
      "Model: \"sequential\"\n",
      "_________________________________________________________________\n",
      " Layer (type)                Output Shape              Param #   \n",
      "=================================================================\n",
      " gru (GRU)                   (None, 64)                12864     \n",
      "                                                                 \n",
      " dropout (Dropout)           (None, 64)                0         \n",
      "                                                                 \n",
      " dense (Dense)               (None, 64)                4160      \n",
      "                                                                 \n",
      " dropout_1 (Dropout)         (None, 64)                0         \n",
      "                                                                 \n",
      " dense_1 (Dense)             (None, 1)                 65        \n",
      "                                                                 \n",
      "=================================================================\n",
      "Total params: 17,089\n",
      "Trainable params: 17,089\n",
      "Non-trainable params: 0\n",
      "_________________________________________________________________\n"
     ]
    }
   ],
   "source": [
    "model.summary()"
   ]
  },
  {
   "cell_type": "code",
   "execution_count": 14,
   "metadata": {},
   "outputs": [
    {
     "name": "stdout",
     "output_type": "stream",
     "text": [
      "Epoch 1/20\n",
      "2/2 [==============================] - 2s 9ms/step - loss: 0.0926\n",
      "Epoch 2/20\n",
      "2/2 [==============================] - 0s 5ms/step - loss: 0.0848\n",
      "Epoch 3/20\n",
      "2/2 [==============================] - 0s 5ms/step - loss: 0.0814\n",
      "Epoch 4/20\n",
      "2/2 [==============================] - 0s 4ms/step - loss: 0.0828\n",
      "Epoch 5/20\n",
      "2/2 [==============================] - 0s 5ms/step - loss: 0.0676\n",
      "Epoch 6/20\n",
      "2/2 [==============================] - 0s 4ms/step - loss: 0.0571\n",
      "Epoch 7/20\n",
      "2/2 [==============================] - 0s 4ms/step - loss: 0.0702\n",
      "Epoch 8/20\n",
      "2/2 [==============================] - 0s 5ms/step - loss: 0.0626\n",
      "Epoch 9/20\n",
      "2/2 [==============================] - 0s 5ms/step - loss: 0.0875\n",
      "Epoch 10/20\n",
      "2/2 [==============================] - 0s 4ms/step - loss: 0.0623\n",
      "Epoch 11/20\n",
      "2/2 [==============================] - 0s 4ms/step - loss: 0.0748\n",
      "Epoch 12/20\n",
      "2/2 [==============================] - 0s 4ms/step - loss: 0.0594\n",
      "Epoch 13/20\n",
      "2/2 [==============================] - 0s 4ms/step - loss: 0.0692\n",
      "Epoch 14/20\n",
      "2/2 [==============================] - 0s 5ms/step - loss: 0.0797\n",
      "Epoch 15/20\n",
      "2/2 [==============================] - 0s 4ms/step - loss: 0.0595\n",
      "Epoch 16/20\n",
      "2/2 [==============================] - 0s 5ms/step - loss: 0.0550\n",
      "Epoch 17/20\n",
      "2/2 [==============================] - 0s 4ms/step - loss: 0.0611\n",
      "Epoch 18/20\n",
      "2/2 [==============================] - 0s 5ms/step - loss: 0.0667\n",
      "Epoch 19/20\n",
      "2/2 [==============================] - 0s 5ms/step - loss: 0.0420\n",
      "Epoch 20/20\n",
      "2/2 [==============================] - 0s 5ms/step - loss: 0.0976\n"
     ]
    },
    {
     "data": {
      "text/plain": [
       "<keras.callbacks.History at 0x7f6f7049cac0>"
      ]
     },
     "execution_count": 14,
     "metadata": {},
     "output_type": "execute_result"
    }
   ],
   "source": [
    "model.fit(X_train, y_train, epochs=20, batch_size=64, shuffle=False)"
   ]
  },
  {
   "cell_type": "markdown",
   "metadata": {},
   "source": [
    "# Prediction"
   ]
  },
  {
   "cell_type": "code",
   "execution_count": 15,
   "metadata": {},
   "outputs": [
    {
     "name": "stdout",
     "output_type": "stream",
     "text": [
      "1/1 [==============================] - 1s 503ms/step\n"
     ]
    }
   ],
   "source": [
    "test_predict = model.predict(X_test)"
   ]
  },
  {
   "cell_type": "code",
   "execution_count": 16,
   "metadata": {},
   "outputs": [
    {
     "name": "stdout",
     "output_type": "stream",
     "text": [
      "MSE 0.19514667739243555\n",
      "R2 -30.78314241035516\n"
     ]
    }
   ],
   "source": [
    "print(f'MSE {mean_squared_error(y_test, test_predict)}')\n",
    "print(f'R2 {r2_score(y_test, test_predict)}')"
   ]
  },
  {
   "cell_type": "code",
   "execution_count": 17,
   "metadata": {
    "scrolled": true
   },
   "outputs": [
    {
     "name": "stdout",
     "output_type": "stream",
     "text": [
      "3/3 [==============================] - 0s 2ms/step\n"
     ]
    }
   ],
   "source": [
    "test_predict= scaler.inverse_transform(test_predict)\n",
    "train_predict = model.predict(X_train)\n",
    "train_predict=scaler.inverse_transform(train_predict)"
   ]
  },
  {
   "cell_type": "code",
   "execution_count": 18,
   "metadata": {},
   "outputs": [
    {
     "data": {
      "text/plain": [
       "array([[141176.36],\n",
       "       [141308.  ],\n",
       "       [141594.2 ],\n",
       "       [140921.  ],\n",
       "       [140879.12],\n",
       "       [140366.66],\n",
       "       [139468.86],\n",
       "       [138207.78],\n",
       "       [136900.17],\n",
       "       [136369.72],\n",
       "       [137005.5 ],\n",
       "       [137957.14],\n",
       "       [139459.  ],\n",
       "       [141666.1 ],\n",
       "       [143682.78],\n",
       "       [145191.75],\n",
       "       [146160.11],\n",
       "       [145575.5 ],\n",
       "       [144435.84],\n",
       "       [143926.67],\n",
       "       [144384.19],\n",
       "       [145076.03],\n",
       "       [146431.48],\n",
       "       [148157.23],\n",
       "       [149573.42],\n",
       "       [150746.03],\n",
       "       [151493.16],\n",
       "       [152165.42],\n",
       "       [152668.5 ],\n",
       "       [153086.45],\n",
       "       [153533.25],\n",
       "       [154354.33],\n",
       "       [154117.6 ],\n",
       "       [153241.92],\n",
       "       [153449.25],\n",
       "       [153618.17],\n",
       "       [153826.38],\n",
       "       [154516.05],\n",
       "       [156141.89],\n",
       "       [157023.94],\n",
       "       [155246.17],\n",
       "       [154584.27],\n",
       "       [154767.  ],\n",
       "       [154762.61],\n",
       "       [154588.06],\n",
       "       [155713.83],\n",
       "       [157135.1 ],\n",
       "       [157859.34],\n",
       "       [158838.4 ],\n",
       "       [158974.67],\n",
       "       [157710.27],\n",
       "       [157148.48],\n",
       "       [157805.75],\n",
       "       [159278.69],\n",
       "       [160439.38],\n",
       "       [161873.44],\n",
       "       [163179.86],\n",
       "       [158971.42],\n",
       "       [155056.61],\n",
       "       [152350.4 ],\n",
       "       [152148.42],\n",
       "       [153373.95],\n",
       "       [155842.98],\n",
       "       [157330.42],\n",
       "       [159043.2 ],\n",
       "       [161610.52],\n",
       "       [165224.33],\n",
       "       [168915.69]], dtype=float32)"
      ]
     },
     "execution_count": 18,
     "metadata": {},
     "output_type": "execute_result"
    }
   ],
   "source": [
    "train_predict"
   ]
  },
  {
   "cell_type": "code",
   "execution_count": 19,
   "metadata": {},
   "outputs": [
    {
     "data": {
      "text/plain": [
       "array([268476.82550784, 271339.46890036, 269766.41264169, 259710.21503216,\n",
       "       266522.32926365, 256552.02812216, 244766.68692385, 255993.0336101 ,\n",
       "       237253.67220316, 230863.4501671 , 241987.17796531, 259750.66517148,\n",
       "       262783.47101631])"
      ]
     },
     "execution_count": 19,
     "metadata": {},
     "output_type": "execute_result"
    }
   ],
   "source": [
    "y_test2 = (y_test * (df1_max - df1_min)) + df1_min\n",
    "y_test2"
   ]
  },
  {
   "cell_type": "code",
   "execution_count": 20,
   "metadata": {},
   "outputs": [
    {
     "name": "stdout",
     "output_type": "stream",
     "text": [
      "MSE 5062787677.638452\n",
      "R2 -30.783142729113965\n",
      "MAE 71153.26891744645\n"
     ]
    }
   ],
   "source": [
    "print(f'MSE {mean_squared_error(y_test2, test_predict)}')\n",
    "print(f'R2 {r2_score(y_test2, test_predict)}')\n",
    "print(f'MAE {math.sqrt(mean_squared_error(y_test2, test_predict))}')"
   ]
  },
  {
   "cell_type": "code",
   "execution_count": 21,
   "metadata": {},
   "outputs": [],
   "source": [
    "look_back = 5\n",
    "\n",
    "trainPredictPlot = np.empty_like(df1)\n",
    "trainPredictPlot[:,:] = np.nan\n",
    "trainPredictPlot[look_back:len(train_predict)+look_back, :] = train_predict\n",
    "\n",
    "testPredictPlot = np.empty_like(df1)\n",
    "testPredictPlot[:,:] = np.nan\n",
    "testPredictPlot[len(train_predict)+(look_back*2)+1:len(df1)-1, :] = test_predict"
   ]
  },
  {
   "cell_type": "code",
   "execution_count": 22,
   "metadata": {},
   "outputs": [
    {
     "data": {
      "text/plain": [
       "<matplotlib.legend.Legend at 0x7f6f685dc340>"
      ]
     },
     "execution_count": 22,
     "metadata": {},
     "output_type": "execute_result"
    },
    {
     "data": {
      "image/png": "[encoded data removed]",
      "text/plain": [
       "<Figure size 1440x576 with 1 Axes>"
      ]
     },
     "metadata": {
      "needs_background": "light"
     },
     "output_type": "display_data"
    }
   ],
   "source": [
    "plt.figure(figsize=(20,8))\n",
    "plt.rcParams.update({'font.size': 22})\n",
    "plt.plot(scaler.inverse_transform(df1), label = 'Main Dataset')\n",
    "plt.plot(trainPredictPlot, label = 'Train Dataset')\n",
    "plt.plot(testPredictPlot, label = 'Test Dataset')\n",
    "plt.legend()"
   ]
  },
  {
   "cell_type": "code",
   "execution_count": null,
   "metadata": {},
   "outputs": [],
   "source": []
  }
 ],
 "metadata": {
  "kernelspec": {
   "display_name": "Python 3",
   "language": "python",
   "name": "python3"
  },
  "language_info": {
   "codemirror_mode": {
    "name": "ipython",
    "version": 3
   },
   "file_extension": ".py",
   "mimetype": "text/x-python",
   "name": "python",
   "nbconvert_exporter": "python",
   "pygments_lexer": "ipython3",
   "version": "3.8.8"
  }
 },
 "nbformat": 4,
 "nbformat_minor": 5
}
