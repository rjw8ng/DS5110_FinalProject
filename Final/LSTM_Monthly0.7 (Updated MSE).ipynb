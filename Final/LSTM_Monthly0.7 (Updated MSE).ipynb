{
 "cells": [
  {
   "cell_type": "markdown",
   "metadata": {},
   "source": [
    "# LSTM"
   ]
  },
  {
   "cell_type": "code",
   "execution_count": 1,
   "metadata": {},
   "outputs": [],
   "source": [
    "import pandas as pd\n",
    "import numpy as np\n",
    "%matplotlib inline\n",
    "from keras.models import Sequential\n",
    "from keras.layers import Dense, LSTM, Dropout\n",
    "from sklearn.preprocessing import MinMaxScaler\n",
    "from sklearn.metrics import mean_squared_error, r2_score\n",
    "import math\n",
    "import matplotlib.pyplot as plt\n",
    "import random"
   ]
  },
  {
   "cell_type": "markdown",
   "metadata": {},
   "source": [
    "# Set Seed"
   ]
  },
  {
   "cell_type": "code",
   "execution_count": 2,
   "metadata": {},
   "outputs": [],
   "source": [
    "random.seed(10)"
   ]
  },
  {
   "cell_type": "markdown",
   "metadata": {},
   "source": [
    "# Load Data"
   ]
  },
  {
   "cell_type": "code",
   "execution_count": 3,
   "metadata": {},
   "outputs": [],
   "source": [
    "agg_data_monthly = pd.read_csv(\"aggregate_data_daily.csv\", parse_dates=True)\n",
    "agg_data_monthly['date'] = pd.to_datetime(agg_data_monthly.date).dt.strftime(\"%Y-%m\")\n",
    "agg_data_monthly.sort_values(by='date',ascending=False)\n",
    "agg_data_monthly = agg_data_monthly.groupby([\"date\"]).mean()\n",
    "agg_data_monthly.index = pd.DatetimeIndex(agg_data_monthly.index)\n",
    "df = agg_data_monthly.reset_index()"
   ]
  },
  {
   "cell_type": "code",
   "execution_count": 4,
   "metadata": {},
   "outputs": [
    {
     "data": {
      "text/plain": [
       "0     131662.912162\n",
       "1     134029.758441\n",
       "2     130201.195084\n",
       "3     128641.653752\n",
       "4     124706.381832\n",
       "          ...      \n",
       "88    230863.450167\n",
       "89    241987.177965\n",
       "90    259750.665171\n",
       "91    262783.471016\n",
       "92    256451.490138\n",
       "Name: close, Length: 93, dtype: float64"
      ]
     },
     "execution_count": 4,
     "metadata": {},
     "output_type": "execute_result"
    }
   ],
   "source": [
    "df = df\n",
    "df1 = df['close']\n",
    "df1"
   ]
  },
  {
   "cell_type": "markdown",
   "metadata": {},
   "source": [
    "### Monthly"
   ]
  },
  {
   "cell_type": "code",
   "execution_count": 5,
   "metadata": {},
   "outputs": [],
   "source": [
    "df1_max = max(df['close'])\n",
    "df1_min = min(df['close'])"
   ]
  },
  {
   "cell_type": "markdown",
   "metadata": {},
   "source": [
    "# Data Preprocessing"
   ]
  },
  {
   "cell_type": "code",
   "execution_count": 6,
   "metadata": {},
   "outputs": [],
   "source": [
    "scaler = MinMaxScaler(feature_range = (0,1))\n",
    "df1 = scaler.fit_transform(np.array(df1).reshape(-1,1))"
   ]
  },
  {
   "cell_type": "code",
   "execution_count": 7,
   "metadata": {},
   "outputs": [],
   "source": [
    "training_size=int(len(df1)*0.7)\n",
    "test_size = len(df1) - training_size\n",
    "train_data, test_data = df1[0:training_size,:], df1[training_size:len(df1),:1]"
   ]
  },
  {
   "cell_type": "code",
   "execution_count": 8,
   "metadata": {},
   "outputs": [
    {
     "data": {
      "text/plain": [
       "28"
      ]
     },
     "execution_count": 8,
     "metadata": {},
     "output_type": "execute_result"
    }
   ],
   "source": [
    "len(test_data)"
   ]
  },
  {
   "cell_type": "code",
   "execution_count": 9,
   "metadata": {},
   "outputs": [],
   "source": [
    "def create_dataset(dataset, time_step=1):\n",
    "    dataX, dataY = [], []\n",
    "    for i in range(len(dataset)-time_step-1):\n",
    "        a = dataset[i:(i+time_step), 0]\n",
    "        dataX.append(a)\n",
    "        dataY.append(dataset[i+time_step, 0])\n",
    "    return np.array(dataX), np.array(dataY)"
   ]
  },
  {
   "cell_type": "markdown",
   "metadata": {},
   "source": [
    "# Train/Test Split"
   ]
  },
  {
   "cell_type": "code",
   "execution_count": 10,
   "metadata": {},
   "outputs": [],
   "source": [
    "time_step=5\n",
    "X_train, y_train = create_dataset(train_data, time_step)\n",
    "X_train2, y_train2 = X_train, y_train\n",
    "X_test, y_test = create_dataset(test_data, time_step)\n",
    "X_test2, y_test2 = X_test, y_test"
   ]
  },
  {
   "cell_type": "code",
   "execution_count": 11,
   "metadata": {},
   "outputs": [
    {
     "data": {
      "text/plain": [
       "array([[0.13282001, 0.14751455, 0.12374496, 0.11406257, 0.08963049],\n",
       "       [0.14751455, 0.12374496, 0.11406257, 0.08963049, 0.12862063],\n",
       "       [0.12374496, 0.11406257, 0.08963049, 0.12862063, 0.13741703],\n",
       "       [0.11406257, 0.08963049, 0.12862063, 0.13741703, 0.08213633],\n",
       "       [0.08963049, 0.12862063, 0.13741703, 0.08213633, 0.111108  ],\n",
       "       [0.12862063, 0.13741703, 0.08213633, 0.111108  , 0.07799453],\n",
       "       [0.13741703, 0.08213633, 0.111108  , 0.07799453, 0.05927781],\n",
       "       [0.08213633, 0.111108  , 0.07799453, 0.05927781, 0.0294239 ],\n",
       "       [0.111108  , 0.07799453, 0.05927781, 0.0294239 , 0.        ],\n",
       "       [0.07799453, 0.05927781, 0.0294239 , 0.        , 0.03137476],\n",
       "       [0.05927781, 0.0294239 , 0.        , 0.03137476, 0.07564493],\n",
       "       [0.0294239 , 0.        , 0.03137476, 0.07564493, 0.09203491],\n",
       "       [0.        , 0.03137476, 0.07564493, 0.09203491, 0.12879604],\n",
       "       [0.03137476, 0.07564493, 0.09203491, 0.12879604, 0.1826453 ],\n",
       "       [0.07564493, 0.09203491, 0.12879604, 0.1826453 , 0.21527157],\n",
       "       [0.09203491, 0.12879604, 0.1826453 , 0.21527157, 0.22679111],\n",
       "       [0.12879604, 0.1826453 , 0.21527157, 0.22679111, 0.22295998],\n",
       "       [0.1826453 , 0.21527157, 0.22679111, 0.22295998, 0.1589236 ],\n",
       "       [0.21527157, 0.22679111, 0.22295998, 0.1589236 , 0.13328981],\n",
       "       [0.22679111, 0.22295998, 0.1589236 , 0.13328981, 0.16104865],\n",
       "       [0.22295998, 0.1589236 , 0.13328981, 0.16104865, 0.20669075],\n",
       "       [0.1589236 , 0.13328981, 0.16104865, 0.20669075, 0.22039891],\n",
       "       [0.13328981, 0.16104865, 0.20669075, 0.22039891, 0.25367382],\n",
       "       [0.16104865, 0.20669075, 0.22039891, 0.25367382, 0.28835093],\n",
       "       [0.20669075, 0.22039891, 0.25367382, 0.28835093, 0.30243371],\n",
       "       [0.22039891, 0.25367382, 0.28835093, 0.30243371, 0.31928927],\n",
       "       [0.25367382, 0.28835093, 0.30243371, 0.31928927, 0.31768508],\n",
       "       [0.28835093, 0.30243371, 0.31928927, 0.31768508, 0.3315315 ],\n",
       "       [0.30243371, 0.31928927, 0.31768508, 0.3315315 , 0.3383335 ],\n",
       "       [0.31928927, 0.31768508, 0.3315315 , 0.3383335 , 0.34384336],\n",
       "       [0.31768508, 0.3315315 , 0.3383335 , 0.34384336, 0.35432185],\n",
       "       [0.3315315 , 0.3383335 , 0.34384336, 0.35432185, 0.37977638],\n",
       "       [0.3383335 , 0.34384336, 0.35432185, 0.37977638, 0.33924173],\n",
       "       [0.34384336, 0.35432185, 0.37977638, 0.33924173, 0.3069511 ],\n",
       "       [0.35432185, 0.37977638, 0.33924173, 0.3069511 , 0.35230167],\n",
       "       [0.37977638, 0.33924173, 0.3069511 , 0.35230167, 0.35200552],\n",
       "       [0.33924173, 0.3069511 , 0.35230167, 0.35200552, 0.35941372],\n",
       "       [0.3069511 , 0.35230167, 0.35200552, 0.35941372, 0.38050773],\n",
       "       [0.35230167, 0.35200552, 0.35941372, 0.38050773, 0.43184949],\n",
       "       [0.35200552, 0.35941372, 0.38050773, 0.43184949, 0.42178396],\n",
       "       [0.35941372, 0.38050773, 0.43184949, 0.42178396, 0.30552249],\n",
       "       [0.38050773, 0.43184949, 0.42178396, 0.30552249, 0.34336071],\n",
       "       [0.43184949, 0.42178396, 0.30552249, 0.34336071, 0.37734839],\n",
       "       [0.42178396, 0.30552249, 0.34336071, 0.37734839, 0.37437156],\n",
       "       [0.30552249, 0.34336071, 0.37734839, 0.37437156, 0.36282827],\n",
       "       [0.34336071, 0.37734839, 0.37437156, 0.36282827, 0.41004932],\n",
       "       [0.37734839, 0.37437156, 0.36282827, 0.41004932, 0.44211508],\n",
       "       [0.37437156, 0.36282827, 0.41004932, 0.44211508, 0.43256064],\n",
       "       [0.36282827, 0.41004932, 0.44211508, 0.43256064, 0.45617414],\n",
       "       [0.41004932, 0.44211508, 0.43256064, 0.45617414, 0.42929564],\n",
       "       [0.44211508, 0.43256064, 0.45617414, 0.42929564, 0.37428035],\n",
       "       [0.43256064, 0.45617414, 0.42929564, 0.37428035, 0.39653532],\n",
       "       [0.45617414, 0.42929564, 0.37428035, 0.39653532, 0.44275906],\n",
       "       [0.42929564, 0.37428035, 0.39653532, 0.44275906, 0.4916751 ],\n",
       "       [0.37428035, 0.39653532, 0.44275906, 0.4916751 , 0.49059916],\n",
       "       [0.39653532, 0.44275906, 0.4916751 , 0.49059916, 0.51393285],\n",
       "       [0.44275906, 0.4916751 , 0.49059916, 0.51393285, 0.53269246],\n",
       "       [0.4916751 , 0.49059916, 0.51393285, 0.53269246, 0.29534468],\n",
       "       [0.49059916, 0.51393285, 0.53269246, 0.29534468, 0.25969412]])"
      ]
     },
     "execution_count": 11,
     "metadata": {},
     "output_type": "execute_result"
    }
   ],
   "source": [
    "X_train"
   ]
  },
  {
   "cell_type": "code",
   "execution_count": 12,
   "metadata": {},
   "outputs": [],
   "source": [
    "X_train=X_train.reshape(X_train.shape[0], X_train.shape[1],1)\n",
    "X_test=X_test.reshape(X_test.shape[0], X_test.shape[1],1)"
   ]
  },
  {
   "cell_type": "code",
   "execution_count": 13,
   "metadata": {},
   "outputs": [
    {
     "data": {
      "text/plain": [
       "5"
      ]
     },
     "execution_count": 13,
     "metadata": {},
     "output_type": "execute_result"
    }
   ],
   "source": [
    "X_train.shape[1]"
   ]
  },
  {
   "cell_type": "markdown",
   "metadata": {},
   "source": [
    "# Model"
   ]
  },
  {
   "cell_type": "code",
   "execution_count": 14,
   "metadata": {},
   "outputs": [],
   "source": [
    "# create and fit the LSTM network\n",
    "model = Sequential()\n",
    "model.add(LSTM(64, input_shape=(X_train.shape[1], 1)))\n",
    "model.add(Dropout(0.8))  # add a dropout layer with rate 0.8\n",
    "model.add(Dense(64, activation='relu'))\n",
    "model.add(Dropout(0.8))  # add a dropout layer with rate 0.8\n",
    "model.add(Dense(1, activation='relu'))\n",
    "model.compile(loss='mean_squared_error', optimizer='adam')"
   ]
  },
  {
   "cell_type": "code",
   "execution_count": 15,
   "metadata": {},
   "outputs": [
    {
     "name": "stdout",
     "output_type": "stream",
     "text": [
      "Model: \"sequential\"\n",
      "_________________________________________________________________\n",
      " Layer (type)                Output Shape              Param #   \n",
      "=================================================================\n",
      " lstm (LSTM)                 (None, 64)                16896     \n",
      "                                                                 \n",
      " dropout (Dropout)           (None, 64)                0         \n",
      "                                                                 \n",
      " dense (Dense)               (None, 64)                4160      \n",
      "                                                                 \n",
      " dropout_1 (Dropout)         (None, 64)                0         \n",
      "                                                                 \n",
      " dense_1 (Dense)             (None, 1)                 65        \n",
      "                                                                 \n",
      "=================================================================\n",
      "Total params: 21,121\n",
      "Trainable params: 21,121\n",
      "Non-trainable params: 0\n",
      "_________________________________________________________________\n"
     ]
    }
   ],
   "source": [
    "model.summary()"
   ]
  },
  {
   "cell_type": "code",
   "execution_count": 16,
   "metadata": {},
   "outputs": [
    {
     "name": "stdout",
     "output_type": "stream",
     "text": [
      "Epoch 1/20\n",
      "1/1 [==============================] - 2s 2s/step - loss: 0.0768\n",
      "Epoch 2/20\n",
      "1/1 [==============================] - 0s 7ms/step - loss: 0.0811\n",
      "Epoch 3/20\n",
      "1/1 [==============================] - 0s 6ms/step - loss: 0.0733\n",
      "Epoch 4/20\n",
      "1/1 [==============================] - 0s 6ms/step - loss: 0.0630\n",
      "Epoch 5/20\n",
      "1/1 [==============================] - 0s 6ms/step - loss: 0.0616\n",
      "Epoch 6/20\n",
      "1/1 [==============================] - 0s 6ms/step - loss: 0.0629\n",
      "Epoch 7/20\n",
      "1/1 [==============================] - 0s 6ms/step - loss: 0.0546\n",
      "Epoch 8/20\n",
      "1/1 [==============================] - 0s 6ms/step - loss: 0.0626\n",
      "Epoch 9/20\n",
      "1/1 [==============================] - 0s 6ms/step - loss: 0.0467\n",
      "Epoch 10/20\n",
      "1/1 [==============================] - 0s 6ms/step - loss: 0.0445\n",
      "Epoch 11/20\n",
      "1/1 [==============================] - 0s 6ms/step - loss: 0.0401\n",
      "Epoch 12/20\n",
      "1/1 [==============================] - 0s 6ms/step - loss: 0.0557\n",
      "Epoch 13/20\n",
      "1/1 [==============================] - 0s 6ms/step - loss: 0.0435\n",
      "Epoch 14/20\n",
      "1/1 [==============================] - 0s 6ms/step - loss: 0.0406\n",
      "Epoch 15/20\n",
      "1/1 [==============================] - 0s 6ms/step - loss: 0.0455\n",
      "Epoch 16/20\n",
      "1/1 [==============================] - 0s 6ms/step - loss: 0.0284\n",
      "Epoch 17/20\n",
      "1/1 [==============================] - 0s 6ms/step - loss: 0.0413\n",
      "Epoch 18/20\n",
      "1/1 [==============================] - 0s 6ms/step - loss: 0.0394\n",
      "Epoch 19/20\n",
      "1/1 [==============================] - 0s 6ms/step - loss: 0.0399\n",
      "Epoch 20/20\n",
      "1/1 [==============================] - 0s 6ms/step - loss: 0.0461\n"
     ]
    },
    {
     "data": {
      "text/plain": [
       "<keras.callbacks.History at 0x7f9b40428670>"
      ]
     },
     "execution_count": 16,
     "metadata": {},
     "output_type": "execute_result"
    }
   ],
   "source": [
    "model.fit(X_train, y_train, epochs=20, batch_size=64, shuffle=False)"
   ]
  },
  {
   "cell_type": "markdown",
   "metadata": {},
   "source": [
    "# Prediction"
   ]
  },
  {
   "cell_type": "code",
   "execution_count": 17,
   "metadata": {},
   "outputs": [
    {
     "name": "stdout",
     "output_type": "stream",
     "text": [
      "1/1 [==============================] - 1s 546ms/step\n"
     ]
    }
   ],
   "source": [
    "test_predict = model.predict(X_test)"
   ]
  },
  {
   "cell_type": "code",
   "execution_count": 18,
   "metadata": {},
   "outputs": [
    {
     "name": "stdout",
     "output_type": "stream",
     "text": [
      "MSE 0.21409603654234227\n",
      "R2 -20.75450325439878\n"
     ]
    }
   ],
   "source": [
    "print(f'MSE {mean_squared_error(y_test, test_predict)}')\n",
    "print(f'R2 {r2_score(y_test, test_predict)}')"
   ]
  },
  {
   "cell_type": "code",
   "execution_count": 19,
   "metadata": {
    "scrolled": true
   },
   "outputs": [
    {
     "name": "stdout",
     "output_type": "stream",
     "text": [
      "2/2 [==============================] - 0s 2ms/step\n"
     ]
    }
   ],
   "source": [
    "test_predict= scaler.inverse_transform(test_predict)\n",
    "train_predict = model.predict(X_train)\n",
    "train_predict=scaler.inverse_transform(train_predict)"
   ]
  },
  {
   "cell_type": "code",
   "execution_count": 20,
   "metadata": {},
   "outputs": [
    {
     "data": {
      "text/plain": [
       "array([[137453.33],\n",
       "       [137368.95],\n",
       "       [137307.75],\n",
       "       [136921.14],\n",
       "       [136875.39],\n",
       "       [136696.81],\n",
       "       [135964.25],\n",
       "       [134870.3 ],\n",
       "       [133956.58],\n",
       "       [133128.53],\n",
       "       [133133.1 ],\n",
       "       [133563.22],\n",
       "       [134661.81],\n",
       "       [136556.8 ],\n",
       "       [138561.56],\n",
       "       [140251.  ],\n",
       "       [141602.83],\n",
       "       [141767.22],\n",
       "       [141094.16],\n",
       "       [140471.66],\n",
       "       [140342.7 ],\n",
       "       [140496.78],\n",
       "       [141605.42],\n",
       "       [143248.66],\n",
       "       [144729.27],\n",
       "       [145931.72],\n",
       "       [146916.58],\n",
       "       [147698.67],\n",
       "       [148218.  ],\n",
       "       [148649.9 ],\n",
       "       [149036.69],\n",
       "       [149706.6 ],\n",
       "       [149771.27],\n",
       "       [149367.42],\n",
       "       [149413.84],\n",
       "       [149395.75],\n",
       "       [149289.77],\n",
       "       [149786.47],\n",
       "       [151111.06],\n",
       "       [151902.45],\n",
       "       [151299.95],\n",
       "       [150980.3 ],\n",
       "       [150876.1 ],\n",
       "       [150385.66],\n",
       "       [149936.23],\n",
       "       [150998.23],\n",
       "       [152066.08],\n",
       "       [152719.58],\n",
       "       [153623.58],\n",
       "       [154240.8 ],\n",
       "       [153743.11],\n",
       "       [153206.44],\n",
       "       [153324.58],\n",
       "       [153878.98],\n",
       "       [154693.39],\n",
       "       [156175.25],\n",
       "       [157564.95],\n",
       "       [155739.56],\n",
       "       [152969.38]], dtype=float32)"
      ]
     },
     "execution_count": 20,
     "metadata": {},
     "output_type": "execute_result"
    }
   ],
   "source": [
    "train_predict"
   ]
  },
  {
   "cell_type": "code",
   "execution_count": 21,
   "metadata": {},
   "outputs": [
    {
     "data": {
      "text/plain": [
       "array([213298.9227815 , 222648.60950248, 234815.60029227, 232629.30229848,\n",
       "       231130.73681843, 234002.88329696, 246234.45037862, 248424.09147886,\n",
       "       252332.63355735, 268476.82550784, 271339.46890036, 269766.41264169,\n",
       "       259710.21503216, 266522.32926365, 256552.02812216, 244766.68692385,\n",
       "       255993.0336101 , 237253.67220316, 230863.4501671 , 241987.17796531,\n",
       "       259750.66517148, 262783.47101631])"
      ]
     },
     "execution_count": 21,
     "metadata": {},
     "output_type": "execute_result"
    }
   ],
   "source": [
    "y_test2 = (y_test * (df1_max - df1_min)) + df1_min\n",
    "y_test2"
   ]
  },
  {
   "cell_type": "code",
   "execution_count": 22,
   "metadata": {},
   "outputs": [
    {
     "name": "stdout",
     "output_type": "stream",
     "text": [
      "MSE 5554399845.317783\n",
      "R2 -20.75450144719882\n",
      "MAE 74527.84610679276\n"
     ]
    }
   ],
   "source": [
    "print(f'MSE {mean_squared_error(y_test2, test_predict)}')\n",
    "print(f'R2 {r2_score(y_test2, test_predict)}')\n",
    "print(f'MAE {math.sqrt(mean_squared_error(y_test2, test_predict))}')"
   ]
  },
  {
   "cell_type": "code",
   "execution_count": 23,
   "metadata": {},
   "outputs": [],
   "source": [
    "look_back = 5\n",
    "\n",
    "trainPredictPlot = np.empty_like(df1)\n",
    "trainPredictPlot[:,:] = np.nan\n",
    "trainPredictPlot[look_back:len(train_predict)+look_back, :] = train_predict\n",
    "\n",
    "testPredictPlot = np.empty_like(df1)\n",
    "testPredictPlot[:,:] = np.nan\n",
    "testPredictPlot[len(train_predict)+(look_back*2)+1:len(df1)-1, :] = test_predict"
   ]
  },
  {
   "cell_type": "code",
   "execution_count": 24,
   "metadata": {},
   "outputs": [
    {
     "data": {
      "text/plain": [
       "<matplotlib.legend.Legend at 0x7f9b40420790>"
      ]
     },
     "execution_count": 24,
     "metadata": {},
     "output_type": "execute_result"
    },
    {
     "data": {
      "image/png": "[encoded data removed]",
      "text/plain": [
       "<Figure size 1440x576 with 1 Axes>"
      ]
     },
     "metadata": {
      "needs_background": "light"
     },
     "output_type": "display_data"
    }
   ],
   "source": [
    "plt.figure(figsize=(20,8))\n",
    "plt.rcParams.update({'font.size': 22})\n",
    "plt.plot(scaler.inverse_transform(df1), label = 'Main Dataset')\n",
    "plt.plot(trainPredictPlot, label = 'Train Dataset')\n",
    "plt.plot(testPredictPlot, label = 'Test Dataset')\n",
    "plt.legend()"
   ]
  },
  {
   "cell_type": "code",
   "execution_count": null,
   "metadata": {},
   "outputs": [],
   "source": []
  }
 ],
 "metadata": {
  "kernelspec": {
   "display_name": "Python 3",
   "language": "python",
   "name": "python3"
  },
  "language_info": {
   "codemirror_mode": {
    "name": "ipython",
    "version": 3
   },
   "file_extension": ".py",
   "mimetype": "text/x-python",
   "name": "python",
   "nbconvert_exporter": "python",
   "pygments_lexer": "ipython3",
   "version": "3.8.8"
  }
 },
 "nbformat": 4,
 "nbformat_minor": 5
}
