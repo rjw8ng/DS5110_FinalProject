{
 "cells": [
  {
   "cell_type": "markdown",
   "metadata": {},
   "source": [
    "# LSTM"
   ]
  },
  {
   "cell_type": "code",
   "execution_count": 1,
   "metadata": {},
   "outputs": [],
   "source": [
    "import pandas as pd\n",
    "import numpy as np\n",
    "%matplotlib inline\n",
    "from keras.models import Sequential\n",
    "from keras.layers import Dense, LSTM, Dropout\n",
    "from sklearn.preprocessing import MinMaxScaler\n",
    "from sklearn.metrics import mean_squared_error, r2_score\n",
    "import math\n",
    "import matplotlib.pyplot as plt\n",
    "import random"
   ]
  },
  {
   "cell_type": "markdown",
   "metadata": {},
   "source": [
    "# Set Seed"
   ]
  },
  {
   "cell_type": "code",
   "execution_count": 2,
   "metadata": {},
   "outputs": [],
   "source": [
    "random.seed(10)"
   ]
  },
  {
   "cell_type": "markdown",
   "metadata": {},
   "source": [
    "# Load Data"
   ]
  },
  {
   "cell_type": "code",
   "execution_count": 3,
   "metadata": {},
   "outputs": [],
   "source": [
    "#agg_data_monthly = pd.read_csv(\"aggregate_data_daily.csv\", parse_dates=True)\n",
    "#agg_data_monthly['date'] = pd.to_datetime(agg_data_monthly.date).dt.strftime(\"%Y-%m\")\n",
    "#agg_data_monthly.sort_values(by='date',ascending=False)\n",
    "#agg_data_monthly = agg_data_monthly.groupby([\"date\"]).mean()\n",
    "#agg_data_monthly.index = pd.DatetimeIndex(agg_data_monthly.index)"
   ]
  },
  {
   "cell_type": "code",
   "execution_count": 4,
   "metadata": {},
   "outputs": [
    {
     "data": {
      "text/plain": [
       "0       131288.958237\n",
       "1       131832.877280\n",
       "2       129468.922827\n",
       "3       129249.723173\n",
       "4       127985.717387\n",
       "            ...      \n",
       "1764    257670.968933\n",
       "1765    259022.745291\n",
       "1766    258462.879837\n",
       "1767    259788.447905\n",
       "1768    260920.830000\n",
       "Name: close, Length: 1769, dtype: float64"
      ]
     },
     "execution_count": 4,
     "metadata": {},
     "output_type": "execute_result"
    }
   ],
   "source": [
    "df = pd.read_csv('aggregate_data_daily.csv')\n",
    "df1 = df['close']\n",
    "df1"
   ]
  },
  {
   "cell_type": "markdown",
   "metadata": {},
   "source": [
    "### Monthly"
   ]
  },
  {
   "cell_type": "code",
   "execution_count": 5,
   "metadata": {},
   "outputs": [],
   "source": [
    "df1_max = max(df['close'])\n",
    "df1_min = min(df['close'])"
   ]
  },
  {
   "cell_type": "markdown",
   "metadata": {},
   "source": [
    "# Data Preprocessing"
   ]
  },
  {
   "cell_type": "code",
   "execution_count": 6,
   "metadata": {},
   "outputs": [],
   "source": [
    "scaler = MinMaxScaler(feature_range = (0,1))\n",
    "df1 = scaler.fit_transform(np.array(df1).reshape(-1,1))"
   ]
  },
  {
   "cell_type": "code",
   "execution_count": 7,
   "metadata": {},
   "outputs": [],
   "source": [
    "training_size=int(len(df1)*0.7)\n",
    "test_size = len(df1) - training_size\n",
    "train_data, test_data = df1[0:training_size,:], df1[training_size:len(df1),:1]"
   ]
  },
  {
   "cell_type": "code",
   "execution_count": 8,
   "metadata": {},
   "outputs": [],
   "source": [
    "def create_dataset(dataset, time_step=1):\n",
    "    dataX, dataY = [], []\n",
    "    for i in range(len(dataset)-time_step-1):\n",
    "        a = dataset[i:(i+time_step), 0]\n",
    "        dataX.append(a)\n",
    "        dataY.append(dataset[i+time_step, 0])\n",
    "    return np.array(dataX), np.array(dataY)"
   ]
  },
  {
   "cell_type": "markdown",
   "metadata": {},
   "source": [
    "# Train/Test Split"
   ]
  },
  {
   "cell_type": "code",
   "execution_count": 9,
   "metadata": {},
   "outputs": [],
   "source": [
    "time_step=100\n",
    "X_train, y_train = create_dataset(train_data, time_step)\n",
    "X_train2, y_train2 = X_train, y_train\n",
    "X_test, y_test = create_dataset(test_data, time_step)\n",
    "X_test2, y_test2 = X_test, y_test"
   ]
  },
  {
   "cell_type": "code",
   "execution_count": 10,
   "metadata": {},
   "outputs": [],
   "source": [
    "X_train=X_train.reshape(X_train.shape[0], X_train.shape[1],1)\n",
    "X_test=X_test.reshape(X_test.shape[0], X_test.shape[1],1)"
   ]
  },
  {
   "cell_type": "code",
   "execution_count": 11,
   "metadata": {},
   "outputs": [
    {
     "data": {
      "text/plain": [
       "100"
      ]
     },
     "execution_count": 11,
     "metadata": {},
     "output_type": "execute_result"
    }
   ],
   "source": [
    "X_train.shape[1]"
   ]
  },
  {
   "cell_type": "markdown",
   "metadata": {},
   "source": [
    "# Model"
   ]
  },
  {
   "cell_type": "code",
   "execution_count": 12,
   "metadata": {},
   "outputs": [],
   "source": [
    "# create and fit the LSTM network\n",
    "model = Sequential()\n",
    "model.add(LSTM(64, input_shape=(X_train.shape[1], 1)))\n",
    "model.add(Dropout(0.8))  # add a dropout layer with rate 0.8\n",
    "model.add(Dense(64, activation='relu'))\n",
    "model.add(Dropout(0.8))  # add a dropout layer with rate 0.8\n",
    "model.add(Dense(1, activation='relu'))\n",
    "model.compile(loss='mean_squared_error', optimizer='adam')"
   ]
  },
  {
   "cell_type": "code",
   "execution_count": 13,
   "metadata": {},
   "outputs": [
    {
     "name": "stdout",
     "output_type": "stream",
     "text": [
      "Model: \"sequential\"\n",
      "_________________________________________________________________\n",
      " Layer (type)                Output Shape              Param #   \n",
      "=================================================================\n",
      " lstm (LSTM)                 (None, 64)                16896     \n",
      "                                                                 \n",
      " dropout (Dropout)           (None, 64)                0         \n",
      "                                                                 \n",
      " dense (Dense)               (None, 64)                4160      \n",
      "                                                                 \n",
      " dropout_1 (Dropout)         (None, 64)                0         \n",
      "                                                                 \n",
      " dense_1 (Dense)             (None, 1)                 65        \n",
      "                                                                 \n",
      "=================================================================\n",
      "Total params: 21,121\n",
      "Trainable params: 21,121\n",
      "Non-trainable params: 0\n",
      "_________________________________________________________________\n"
     ]
    }
   ],
   "source": [
    "model.summary()"
   ]
  },
  {
   "cell_type": "code",
   "execution_count": 14,
   "metadata": {},
   "outputs": [
    {
     "name": "stdout",
     "output_type": "stream",
     "text": [
      "Epoch 1/20\n",
      "18/18 [==============================] - 3s 39ms/step - loss: 0.0445\n",
      "Epoch 2/20\n",
      "18/18 [==============================] - 1s 39ms/step - loss: 0.0304\n",
      "Epoch 3/20\n",
      "18/18 [==============================] - 1s 39ms/step - loss: 0.0208\n",
      "Epoch 4/20\n",
      "18/18 [==============================] - 1s 38ms/step - loss: 0.0175\n",
      "Epoch 5/20\n",
      "18/18 [==============================] - 1s 35ms/step - loss: 0.0146\n",
      "Epoch 6/20\n",
      "18/18 [==============================] - 1s 37ms/step - loss: 0.0147\n",
      "Epoch 7/20\n",
      "18/18 [==============================] - 1s 41ms/step - loss: 0.0125\n",
      "Epoch 8/20\n",
      "18/18 [==============================] - 1s 38ms/step - loss: 0.0111\n",
      "Epoch 9/20\n",
      "18/18 [==============================] - 1s 40ms/step - loss: 0.0118\n",
      "Epoch 10/20\n",
      "18/18 [==============================] - 1s 39ms/step - loss: 0.0102\n",
      "Epoch 11/20\n",
      "18/18 [==============================] - 1s 40ms/step - loss: 0.0106\n",
      "Epoch 12/20\n",
      "18/18 [==============================] - 1s 39ms/step - loss: 0.0090\n",
      "Epoch 13/20\n",
      "18/18 [==============================] - 1s 37ms/step - loss: 0.0088\n",
      "Epoch 14/20\n",
      "18/18 [==============================] - 1s 39ms/step - loss: 0.0084\n",
      "Epoch 15/20\n",
      "18/18 [==============================] - 1s 38ms/step - loss: 0.0081\n",
      "Epoch 16/20\n",
      "18/18 [==============================] - 1s 40ms/step - loss: 0.0083\n",
      "Epoch 17/20\n",
      "18/18 [==============================] - 1s 39ms/step - loss: 0.0073\n",
      "Epoch 18/20\n",
      "18/18 [==============================] - 1s 40ms/step - loss: 0.0083\n",
      "Epoch 19/20\n",
      "18/18 [==============================] - 1s 37ms/step - loss: 0.0069\n",
      "Epoch 20/20\n",
      "18/18 [==============================] - 1s 37ms/step - loss: 0.0068\n"
     ]
    },
    {
     "data": {
      "text/plain": [
       "<keras.callbacks.History at 0x7fbfdc116bb0>"
      ]
     },
     "execution_count": 14,
     "metadata": {},
     "output_type": "execute_result"
    }
   ],
   "source": [
    "model.fit(X_train, y_train, epochs=20, batch_size=64, shuffle=False)"
   ]
  },
  {
   "cell_type": "markdown",
   "metadata": {},
   "source": [
    "# Prediction"
   ]
  },
  {
   "cell_type": "code",
   "execution_count": 15,
   "metadata": {},
   "outputs": [
    {
     "name": "stdout",
     "output_type": "stream",
     "text": [
      "14/14 [==============================] - 1s 9ms/step\n"
     ]
    }
   ],
   "source": [
    "test_predict = model.predict(X_test)"
   ]
  },
  {
   "cell_type": "code",
   "execution_count": 16,
   "metadata": {},
   "outputs": [
    {
     "name": "stdout",
     "output_type": "stream",
     "text": [
      "MSE 0.01675643786486316\n",
      "R2 -0.8893174358600329\n"
     ]
    }
   ],
   "source": [
    "print(f'MSE {mean_squared_error(y_test, test_predict)}')\n",
    "print(f'R2 {r2_score(y_test, test_predict)}')"
   ]
  },
  {
   "cell_type": "code",
   "execution_count": 17,
   "metadata": {
    "scrolled": true
   },
   "outputs": [
    {
     "name": "stdout",
     "output_type": "stream",
     "text": [
      "36/36 [==============================] - 0s 9ms/step\n"
     ]
    }
   ],
   "source": [
    "test_predict= scaler.inverse_transform(test_predict)\n",
    "train_predict = model.predict(X_train)\n",
    "train_predict=scaler.inverse_transform(train_predict)"
   ]
  },
  {
   "cell_type": "code",
   "execution_count": 18,
   "metadata": {},
   "outputs": [
    {
     "data": {
      "text/plain": [
       "array([[131953.72],\n",
       "       [132461.38],\n",
       "       [132511.67],\n",
       "       ...,\n",
       "       [167065.33],\n",
       "       [167588.1 ],\n",
       "       [167960.94]], dtype=float32)"
      ]
     },
     "execution_count": 18,
     "metadata": {},
     "output_type": "execute_result"
    }
   ],
   "source": [
    "train_predict"
   ]
  },
  {
   "cell_type": "code",
   "execution_count": 19,
   "metadata": {},
   "outputs": [
    {
     "data": {
      "text/plain": [
       "array([212623.20093333, 213318.26721763, 212244.01336898, 213349.14704301,\n",
       "       213969.64786667, 214112.87293333, 215857.47090164, 216456.52173913,\n",
       "       215983.80912807, 213786.59572193, 208875.80266667, 212653.91720867,\n",
       "       214041.55683646, 215754.95253333, 215925.0296    , 216546.41136364,\n",
       "       217432.04786096, 217986.16567568, 218850.20533333, 219469.76253333,\n",
       "       221093.4684492 , 222471.7925876 , 224561.70672043, 225995.0792    ,\n",
       "       227105.62866848, 226500.6884    , 226211.16420912, 225811.15773333,\n",
       "       227301.26085165, 225079.86029412, 223125.14213333, 219781.72426667,\n",
       "       217053.37226667, 216628.18221925, 217799.27372654, 228009.79933155,\n",
       "       231188.44933155, 233093.03853333, 234692.42053333, 237689.6407754 ,\n",
       "       239275.55374332, 237537.37386667, 238891.24946524, 239135.00201072,\n",
       "       241629.90546667, 241744.8355615 , 239771.94758065, 238413.60215054,\n",
       "       235920.59108108, 232230.21724599, 231154.19173333, 232683.56984127,\n",
       "       235172.74      , 230278.60386667, 231236.22173333, 233450.5192    ,\n",
       "       236404.98954424, 236582.69706667, 235533.29786667, 234720.29413333,\n",
       "       234714.80360963, 235747.96778075, 236039.9404    , 231316.83552279,\n",
       "       233244.9636    , 230843.03733333, 228574.65227882, 226376.58133333,\n",
       "       227375.65066667, 231274.76756757, 231260.919437  , 232297.69304813,\n",
       "       229985.01313673, 231526.72352941, 234009.60589812, 237192.00481283,\n",
       "       237281.21      , 229456.984     , 229725.7828877 , 229195.77986667,\n",
       "       232789.12146739, 227943.7052    , 229567.28209366, 227294.0513624 ,\n",
       "       227628.37816712, 228892.14369748, 229413.29053333, 232553.0829096 ,\n",
       "       233311.83770053, 231420.30923913, 229308.46831551, 230480.53374656,\n",
       "       229813.2141129 , 231315.83668478, 232336.5983871 , 233331.86762295,\n",
       "       233109.43116531, 231898.41196237, 230605.3122973 , 232794.32583333,\n",
       "       236431.4402965 , 237325.68645251, 236580.5660274 , 238319.67924528,\n",
       "       238402.53608108, 241992.22452055, 242321.89250681, 242559.125     ,\n",
       "       244948.1812    , 245276.03773333, 246379.12744565, 246523.0346049 ,\n",
       "       246508.80108108, 246594.84144022, 247048.15120321, 245895.42211796,\n",
       "       248143.88535912, 247444.87152589, 246594.7380697 , 244455.48508065,\n",
       "       244021.1144    , 247372.11786667, 246800.61094595, 246863.66706989,\n",
       "       248202.93210383, 248699.14629121, 247590.63300836, 246914.09227528,\n",
       "       246041.30190217, 246185.90900538, 248687.36395028, 249769.13931624,\n",
       "       249341.05631868, 248613.13483607, 246922.30745856, 248889.33451087,\n",
       "       248970.30638889, 248840.99502688, 249674.68774105, 249543.65577957,\n",
       "       248221.88215259, 247111.49810298, 248795.61291209, 249224.58428962,\n",
       "       249437.1397019 , 249287.68532609, 246500.14337838, 251783.12594086,\n",
       "       254267.84235925, 252984.99364865, 252492.7381016 , 252454.53803763,\n",
       "       251028.99010695, 247928.68946667, 249426.39664804, 250854.51054054,\n",
       "       250247.98997326, 250215.87093333, 252416.31524064, 250176.67813333,\n",
       "       250497.52426667, 251633.08333333, 253389.79157143, 252897.34865952,\n",
       "       254154.53140162, 257834.71827957, 259966.99450402, 262453.74013333,\n",
       "       264940.31684492, 266598.52473262, 267778.20150273, 267079.30053619,\n",
       "       267128.08426667, 267524.92758152, 267998.17909836, 269102.99475138,\n",
       "       269362.05849057, 270935.22486487, 271628.08      , 269655.11689008,\n",
       "       267660.90506667, 269341.54959459, 271163.46847222, 271170.41324324,\n",
       "       271007.99291553, 269618.15898123, 268280.13162162, 267585.96607629,\n",
       "       265818.29182306, 270513.56345109, 270177.32613333, 271686.5956044 ,\n",
       "       271663.81854396, 273954.55797297, 275275.28973333, 276880.45581081,\n",
       "       276188.84919137, 272373.80831099, 270379.49180108, 270737.04773333,\n",
       "       268079.85586667, 270093.60748663, 271970.71644022, 269055.14931129,\n",
       "       267922.54609164, 270368.14373333, 271971.74493333, 271131.4916442 ,\n",
       "       272539.5225    , 273363.82024169, 274988.58898072, 274163.25906516,\n",
       "       272413.5108871 , 273655.00969945, 275861.51321526, 275432.58355795,\n",
       "       274772.47472222, 271065.8712    , 265851.40666667, 265490.58619303,\n",
       "       266841.30407609, 264790.60910543, 261289.85786667, 258941.57754011,\n",
       "       260395.37700535, 260326.43342246, 262209.90733333, 262477.60756757,\n",
       "       264787.58946667, 262589.72173333, 262516.21933333, 261919.90413333,\n",
       "       257824.8236    , 250021.20200535, 254572.7942623 , 255997.6648    ,\n",
       "       258346.17272727, 256899.88967391, 257552.91613333, 260598.2572    ,\n",
       "       260982.55066667, 261056.17252011, 264104.044     , 266762.3348    ,\n",
       "       267743.7724    , 270019.34906667, 268321.1704    , 269608.0692    ,\n",
       "       271411.6416    , 272065.87345845, 273056.44769022, 272941.45409836,\n",
       "       272747.7964    , 273779.02486413, 272884.06186667, 268360.13702703,\n",
       "       266666.90525606, 263111.66911765, 257394.06546667, 255568.72693333,\n",
       "       253007.5572    , 257181.46586021, 257815.06256757, 260661.86470588,\n",
       "       263878.09579946, 263176.28431635, 261891.75806452, 258380.86286863,\n",
       "       257475.10986667, 253701.92746667, 255526.01533333, 259670.78866667,\n",
       "       259131.00187166, 257330.5101626 , 256401.55173333, 253064.11930295,\n",
       "       256159.48314917, 246763.41733333, 249439.67466667, 248732.01276882,\n",
       "       247433.44853333, 246137.3452    , 239767.72493333, 232054.62649007,\n",
       "       231021.9716    , 235871.77386667, 242531.0368    , 241765.68890374,\n",
       "       242222.50640327, 244231.94304813, 246521.85650406, 252480.0804    ,\n",
       "       251091.22938005, 247662.23347222, 249602.93753541, 248249.26417112,\n",
       "       246906.0150134 , 245119.30653333, 247802.44008264, 250636.12479675,\n",
       "       250990.87173333, 252383.4773842 , 257239.8016    , 259817.70643432,\n",
       "       258414.35147849, 258248.80712329, 258948.98482385, 259795.67562674,\n",
       "       257272.32018717, 257450.47179487, 253149.91147541, 255616.87613333,\n",
       "       254892.62043597, 251723.23077957, 254792.68016997, 252332.78756684,\n",
       "       253962.28968927, 255839.57866848, 251508.9228    , 248868.17144772,\n",
       "       246473.07797297, 239157.38293333, 236735.6       , 237949.88310992,\n",
       "       235004.6094086 , 230609.33404826, 232405.67735849, 230783.83672087,\n",
       "       233148.66852861, 236140.60613333, 231000.73696237, 234802.57743243,\n",
       "       237334.0092246 , 234764.85502717, 233221.25528455, 232239.80569106,\n",
       "       236877.87105263, 241390.27589041, 241909.95923913, 240486.86260054,\n",
       "       239169.80094851, 238268.8152815 , 234924.30512129, 232116.63203753,\n",
       "       232497.6596    , 231859.98773585, 230983.70482574, 226703.83096515,\n",
       "       227020.89663979, 227087.04301075, 225304.62198391, 220748.5188    ,\n",
       "       227964.4       , 230841.46917404, 229694.29400545, 229941.21202703,\n",
       "       229928.04825073, 229573.27177419, 232187.43486486, 234962.12773333,\n",
       "       236586.38026667, 239821.12125668, 240215.68950954, 240619.65735294,\n",
       "       240017.3556    , 239847.65225352, 238669.96353887, 239344.8489071 ,\n",
       "       242263.78700565, 242993.66040462, 245520.71035422, 246076.8502809 ,\n",
       "       248339.36420613, 247724.94716981, 246260.75458333, 246721.72676056,\n",
       "       250932.16306818, 253051.27038043, 255670.47906667, 257256.20306667,\n",
       "       256234.5696    , 256995.04371658, 258592.60121951, 258628.0912    ,\n",
       "       258778.91276882, 260724.56729107, 260284.28075843, 262797.55955679,\n",
       "       264512.19530831, 264147.59306667, 262903.568     , 258459.64097035,\n",
       "       258195.87741935, 261829.45973451, 262075.05989305, 261408.20534759,\n",
       "       261117.71266846, 260993.70819892, 262246.50467914, 265639.58061497,\n",
       "       268168.30588235, 268314.23586667, 269529.97413333, 269765.89177898,\n",
       "       269973.40588235, 265951.60900538, 264711.21946667, 268331.02210243,\n",
       "       265887.0172    , 263946.68186667, 260826.6036    , 255205.84253333,\n",
       "       254763.4256    , 254297.3484    , 253503.95723861, 254579.0504    ,\n",
       "       253991.50186667, 256590.02053333, 258034.27820856, 256941.0052139 ,\n",
       "       255399.84193548, 254314.474     , 252915.43763441, 252732.5208    ,\n",
       "       255376.81965241, 254610.58026667, 257670.96893333, 259022.74529086,\n",
       "       258462.87983651, 259788.44790503])"
      ]
     },
     "execution_count": 19,
     "metadata": {},
     "output_type": "execute_result"
    }
   ],
   "source": [
    "y_test2 = (y_test * (df1_max - df1_min)) + df1_min\n",
    "y_test2"
   ]
  },
  {
   "cell_type": "code",
   "execution_count": 20,
   "metadata": {},
   "outputs": [
    {
     "name": "stdout",
     "output_type": "stream",
     "text": [
      "MSE 483127157.82817465\n",
      "R2 -0.8893166922416029\n",
      "MAE 21980.15372621799\n"
     ]
    }
   ],
   "source": [
    "print(f'MSE {mean_squared_error(y_test2, test_predict)}')\n",
    "print(f'R2 {r2_score(y_test2, test_predict)}')\n",
    "print(f'MAE {math.sqrt(mean_squared_error(y_test2, test_predict))}')"
   ]
  },
  {
   "cell_type": "code",
   "execution_count": 21,
   "metadata": {},
   "outputs": [],
   "source": [
    "look_back = 100\n",
    "\n",
    "trainPredictPlot = np.empty_like(df1)\n",
    "trainPredictPlot[:,:] = np.nan\n",
    "trainPredictPlot[look_back:len(train_predict)+look_back, :] = train_predict\n",
    "\n",
    "testPredictPlot = np.empty_like(df1)\n",
    "testPredictPlot[:,:] = np.nan\n",
    "testPredictPlot[len(train_predict)+(look_back*2)+1:len(df1)-1, :] = test_predict"
   ]
  },
  {
   "cell_type": "code",
   "execution_count": 22,
   "metadata": {},
   "outputs": [
    {
     "data": {
      "text/plain": [
       "<matplotlib.legend.Legend at 0x7fbf88468a30>"
      ]
     },
     "execution_count": 22,
     "metadata": {},
     "output_type": "execute_result"
    },
    {
     "data": {
      "image/png": "[encoded data removed]",
      "text/plain": [
       "<Figure size 1440x576 with 1 Axes>"
      ]
     },
     "metadata": {
      "needs_background": "light"
     },
     "output_type": "display_data"
    }
   ],
   "source": [
    "plt.figure(figsize=(20,8))\n",
    "plt.rcParams.update({'font.size': 22})\n",
    "plt.plot(scaler.inverse_transform(df1), label = 'Main Dataset')\n",
    "plt.plot(trainPredictPlot, label = 'Train Dataset')\n",
    "plt.plot(testPredictPlot, label = 'Test Dataset')\n",
    "plt.legend()"
   ]
  },
  {
   "cell_type": "code",
   "execution_count": null,
   "metadata": {},
   "outputs": [],
   "source": []
  }
 ],
 "metadata": {
  "kernelspec": {
   "display_name": "Python 3",
   "language": "python",
   "name": "python3"
  },
  "language_info": {
   "codemirror_mode": {
    "name": "ipython",
    "version": 3
   },
   "file_extension": ".py",
   "mimetype": "text/x-python",
   "name": "python",
   "nbconvert_exporter": "python",
   "pygments_lexer": "ipython3",
   "version": "3.8.8"
  }
 },
 "nbformat": 4,
 "nbformat_minor": 5
}
